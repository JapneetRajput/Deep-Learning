{
  "nbformat": 4,
  "nbformat_minor": 0,
  "metadata": {
    "colab": {
      "provenance": []
    },
    "kernelspec": {
      "name": "python3",
      "display_name": "Python 3"
    },
    "language_info": {
      "name": "python"
    }
  },
  "cells": [
    {
      "cell_type": "markdown",
      "source": [
        "Japneet"
      ],
      "metadata": {
        "id": "drrgq3xdpE3K"
      }
    },
    {
      "cell_type": "code",
      "source": [
        "import numpy as np\n",
        "import matplotlib.pyplot as plt\n",
        "import warnings\n",
        "warnings.filterwarnings(\"ignore\")"
      ],
      "metadata": {
        "id": "0QR0D8jwpHmg"
      },
      "execution_count": null,
      "outputs": []
    },
    {
      "cell_type": "code",
      "source": [
        "alpha = 0.09 #Learing rate\n",
        "X = np.array([[1, 0, 0], [1, 0, 1], [1, 1, 0], [1, 1, 1]])\n",
        "w = np.array([1, 1, 1])"
      ],
      "metadata": {
        "id": "6Cl41HArp0RB"
      },
      "execution_count": null,
      "outputs": []
    },
    {
      "cell_type": "code",
      "source": [
        "x1 = np.array([0,0,1,1])\n",
        "x2 = np.array([0,1,0,1])"
      ],
      "metadata": {
        "id": "Zn8JcP_k4eSA"
      },
      "execution_count": null,
      "outputs": []
    },
    {
      "cell_type": "markdown",
      "source": [
        "##Perceptron Algorithm for 2 inputs"
      ],
      "metadata": {
        "id": "K83rovM2C6LB"
      }
    },
    {
      "cell_type": "code",
      "source": [
        "def perceptron_learning(X, w, y):\n",
        "  i = 1\n",
        "  while(True):\n",
        "    y_1 = np.dot(X,w)\n",
        "    y_1[y_1 > 0] = 1\n",
        "    y_1[y_1 < 0] = 0\n",
        "    if np.array_equal(y_1, y) :\n",
        "      print(\"Converging after \", i,\" iteration\")\n",
        "      w_new = w - alpha*np.dot((y_1 - y),X)\n",
        "      w = w_new\n",
        "      print(\"Weights \", w)\n",
        "      return y_1, w\n",
        "    w_new = w - alpha*np.dot((y_1 - y),X)\n",
        "    w = w_new\n",
        "    print(\"Weights after \",i,\"iteration: \",w)\n",
        "    print(\"Predicted values after \",i,\" iteration\",y_1)\n",
        "    i+=1"
      ],
      "metadata": {
        "id": "vaWSJnJ-qAYp"
      },
      "execution_count": null,
      "outputs": []
    },
    {
      "cell_type": "code",
      "source": [
        "print(\"AND GATE\")\n",
        "print(\"-----------------------------\")\n",
        "p , w_and = perceptron_learning(X, w, np.array([0, 0, 0, 1]))\n",
        "print(\"Predicted values: \", p)"
      ],
      "metadata": {
        "colab": {
          "base_uri": "https://localhost:8080/"
        },
        "id": "5N1wx4HNq5fc",
        "outputId": "f902893c-aeac-4585-a1ba-48586bb6310e"
      },
      "execution_count": null,
      "outputs": [
        {
          "output_type": "stream",
          "name": "stdout",
          "text": [
            "AND GATE\n",
            "-----------------------------\n",
            "Weights after  1 iteration:  [0.73 0.91 0.91]\n",
            "Predicted values after  1  iteration [1 1 1 1]\n",
            "Weights after  2 iteration:  [0.46 0.82 0.82]\n",
            "Predicted values after  2  iteration [1. 1. 1. 1.]\n",
            "Weights after  3 iteration:  [0.19 0.73 0.73]\n",
            "Predicted values after  3  iteration [1. 1. 1. 1.]\n",
            "Weights after  4 iteration:  [-0.08  0.64  0.64]\n",
            "Predicted values after  4  iteration [1. 1. 1. 1.]\n",
            "Weights after  5 iteration:  [-0.26  0.55  0.55]\n",
            "Predicted values after  5  iteration [0. 1. 1. 1.]\n",
            "Weights after  6 iteration:  [-0.44  0.46  0.46]\n",
            "Predicted values after  6  iteration [0. 1. 1. 1.]\n",
            "Weights after  7 iteration:  [-0.62  0.37  0.37]\n",
            "Predicted values after  7  iteration [0. 1. 1. 1.]\n",
            "Converging after  8  iteration\n",
            "Weights  [-0.62  0.37  0.37]\n",
            "Predicted values:  [0. 0. 0. 1.]\n"
          ]
        }
      ]
    },
    {
      "cell_type": "code",
      "source": [
        "# 0 = w[0] + w[1]*x + w[2]*y\n",
        "x_fired = [1]\n",
        "y_fired = [1]\n",
        "x = np.linspace(0,2,400)\n",
        "y = (-w_and[0] - w_and[1] * x) / w_and[2]\n",
        "plt.scatter(x1, x2, marker=\"x\")\n",
        "plt.scatter(x_fired, y_fired)\n",
        "plt.plot(x, y, linestyle=\"dashed\", c=\"red\")"
      ],
      "metadata": {
        "colab": {
          "base_uri": "https://localhost:8080/",
          "height": 448
        },
        "id": "mg4sh9G_3tJW",
        "outputId": "8ddeaaf5-ab8c-4e09-d587-846c2877ef58"
      },
      "execution_count": null,
      "outputs": [
        {
          "output_type": "execute_result",
          "data": {
            "text/plain": [
              "[<matplotlib.lines.Line2D at 0x798d2415d450>]"
            ]
          },
          "metadata": {},
          "execution_count": 22
        },
        {
          "output_type": "display_data",
          "data": {
            "text/plain": [
              "<Figure size 640x480 with 1 Axes>"
            ],
            "image/png": "[encoded data removed]"
          },
          "metadata": {}
        }
      ]
    },
    {
      "cell_type": "code",
      "source": [
        "print(\"OR GATE\")\n",
        "print(\"-----------------------------\")\n",
        "p, w_or  = perceptron_learning(X, w, np.array([0, 1, 1, 1]))\n",
        "print(\"Predicted values: \", p)"
      ],
      "metadata": {
        "colab": {
          "base_uri": "https://localhost:8080/"
        },
        "id": "aprFMm2Bz6OA",
        "outputId": "e817af54-6ab3-4336-b4d3-ea1fab2a1980"
      },
      "execution_count": null,
      "outputs": [
        {
          "output_type": "stream",
          "name": "stdout",
          "text": [
            "OR GATE\n",
            "-----------------------------\n",
            "Weights after  1 iteration:  [0.91 1.   1.  ]\n",
            "Predicted values after  1  iteration [1 1 1 1]\n",
            "Weights after  2 iteration:  [0.82 1.   1.  ]\n",
            "Predicted values after  2  iteration [1. 1. 1. 1.]\n",
            "Weights after  3 iteration:  [0.73 1.   1.  ]\n",
            "Predicted values after  3  iteration [1. 1. 1. 1.]\n",
            "Weights after  4 iteration:  [0.64 1.   1.  ]\n",
            "Predicted values after  4  iteration [1. 1. 1. 1.]\n",
            "Weights after  5 iteration:  [0.55 1.   1.  ]\n",
            "Predicted values after  5  iteration [1. 1. 1. 1.]\n",
            "Weights after  6 iteration:  [0.46 1.   1.  ]\n",
            "Predicted values after  6  iteration [1. 1. 1. 1.]\n",
            "Weights after  7 iteration:  [0.37 1.   1.  ]\n",
            "Predicted values after  7  iteration [1. 1. 1. 1.]\n",
            "Weights after  8 iteration:  [0.28 1.   1.  ]\n",
            "Predicted values after  8  iteration [1. 1. 1. 1.]\n",
            "Weights after  9 iteration:  [0.19 1.   1.  ]\n",
            "Predicted values after  9  iteration [1. 1. 1. 1.]\n",
            "Weights after  10 iteration:  [0.1 1.  1. ]\n",
            "Predicted values after  10  iteration [1. 1. 1. 1.]\n",
            "Weights after  11 iteration:  [0.01 1.   1.  ]\n",
            "Predicted values after  11  iteration [1. 1. 1. 1.]\n",
            "Weights after  12 iteration:  [-0.08  1.    1.  ]\n",
            "Predicted values after  12  iteration [1. 1. 1. 1.]\n",
            "Converging after  13  iteration\n",
            "Weights  [-0.08  1.    1.  ]\n",
            "Predicted values:  [0. 1. 1. 1.]\n"
          ]
        }
      ]
    },
    {
      "cell_type": "code",
      "source": [
        "x_fired = [1, 0, 1]\n",
        "y_fired = [0, 1, 1]\n",
        "x = np.linspace(0,1,400)\n",
        "y = (-w_or[0] - w_or[1] * x) / w_or[2]\n",
        "plt.scatter(x1, x2, marker=\"x\")\n",
        "plt.scatter(x_fired, y_fired)\n",
        "plt.plot(x, y, linestyle=\"dashed\", c=\"red\")"
      ],
      "metadata": {
        "colab": {
          "base_uri": "https://localhost:8080/",
          "height": 447
        },
        "id": "42I_U4eC5Bmu",
        "outputId": "1796dfd8-4652-4d74-c893-fd1d70affa33"
      },
      "execution_count": null,
      "outputs": [
        {
          "output_type": "execute_result",
          "data": {
            "text/plain": [
              "[<matplotlib.lines.Line2D at 0x798d241e6800>]"
            ]
          },
          "metadata": {},
          "execution_count": 24
        },
        {
          "output_type": "display_data",
          "data": {
            "text/plain": [
              "<Figure size 640x480 with 1 Axes>"
            ],
            "image/png": "[encoded data removed]"
          },
          "metadata": {}
        }
      ]
    },
    {
      "cell_type": "code",
      "source": [
        "print(\"NAND GATE\")\n",
        "print(\"-----------------------------\")\n",
        "p , w_nand = perceptron_learning(X, w, np.array([1, 1, 1, 0]))\n",
        "print(\"Predicted values: \", p)"
      ],
      "metadata": {
        "colab": {
          "base_uri": "https://localhost:8080/"
        },
        "id": "Vg5VVhoP0GZN",
        "outputId": "fa77c103-f272-4885-99ca-65892f706eb5"
      },
      "execution_count": null,
      "outputs": [
        {
          "output_type": "stream",
          "name": "stdout",
          "text": [
            "NAND GATE\n",
            "-----------------------------\n",
            "Weights after  1 iteration:  [0.91 0.91 0.91]\n",
            "Predicted values after  1  iteration [1 1 1 1]\n",
            "Weights after  2 iteration:  [0.82 0.82 0.82]\n",
            "Predicted values after  2  iteration [1. 1. 1. 1.]\n",
            "Weights after  3 iteration:  [0.73 0.73 0.73]\n",
            "Predicted values after  3  iteration [1. 1. 1. 1.]\n",
            "Weights after  4 iteration:  [0.64 0.64 0.64]\n",
            "Predicted values after  4  iteration [1. 1. 1. 1.]\n",
            "Weights after  5 iteration:  [0.55 0.55 0.55]\n",
            "Predicted values after  5  iteration [1. 1. 1. 1.]\n",
            "Weights after  6 iteration:  [0.46 0.46 0.46]\n",
            "Predicted values after  6  iteration [1. 1. 1. 1.]\n",
            "Weights after  7 iteration:  [0.37 0.37 0.37]\n",
            "Predicted values after  7  iteration [1. 1. 1. 1.]\n",
            "Weights after  8 iteration:  [0.28 0.28 0.28]\n",
            "Predicted values after  8  iteration [1. 1. 1. 1.]\n",
            "Weights after  9 iteration:  [0.19 0.19 0.19]\n",
            "Predicted values after  9  iteration [1. 1. 1. 1.]\n",
            "Weights after  10 iteration:  [0.1 0.1 0.1]\n",
            "Predicted values after  10  iteration [1. 1. 1. 1.]\n",
            "Weights after  11 iteration:  [0.01 0.01 0.01]\n",
            "Predicted values after  11  iteration [1. 1. 1. 1.]\n",
            "Weights after  12 iteration:  [-0.08 -0.08 -0.08]\n",
            "Predicted values after  12  iteration [1. 1. 1. 1.]\n",
            "Weights after  13 iteration:  [0.19 0.01 0.01]\n",
            "Predicted values after  13  iteration [0. 0. 0. 0.]\n",
            "Weights after  14 iteration:  [ 0.1  -0.08 -0.08]\n",
            "Predicted values after  14  iteration [1. 1. 1. 1.]\n",
            "Converging after  15  iteration\n",
            "Weights  [ 0.1  -0.08 -0.08]\n",
            "Predicted values:  [1. 1. 1. 0.]\n"
          ]
        }
      ]
    },
    {
      "cell_type": "code",
      "source": [
        "x_fired = [0, 0, 1]\n",
        "y_fired = [0, 1, 0]\n",
        "x = np.linspace(0,2,400)\n",
        "y = (-w_nand[0] - w_nand[1] * x) / w_nand[2]\n",
        "plt.scatter(x1, x2, marker=\"x\")\n",
        "plt.scatter(x_fired, y_fired)\n",
        "plt.plot(x, y, linestyle = \"dashed\", c = \"red\")"
      ],
      "metadata": {
        "colab": {
          "base_uri": "https://localhost:8080/",
          "height": 447
        },
        "id": "fg-rLlc05Tso",
        "outputId": "9f8d04d4-1288-4de4-f9d9-deb18cd543b9"
      },
      "execution_count": null,
      "outputs": [
        {
          "output_type": "execute_result",
          "data": {
            "text/plain": [
              "[<matplotlib.lines.Line2D at 0x798d0177da50>]"
            ]
          },
          "metadata": {},
          "execution_count": 26
        },
        {
          "output_type": "display_data",
          "data": {
            "text/plain": [
              "<Figure size 640x480 with 1 Axes>"
            ],
            "image/png": "[encoded data removed]"
          },
          "metadata": {}
        }
      ]
    },
    {
      "cell_type": "markdown",
      "source": [
        "##Multilayer Perceptron Model for XOR Gate\n",
        "XOR(A,B) = (NAND(A,B) AND OR(A,B))"
      ],
      "metadata": {
        "id": "nfr_pcJ1Kr2q"
      }
    },
    {
      "cell_type": "code",
      "source": [
        "print(\"XOR Gate\")\n",
        "print(\"-----------------------------\")\n",
        "print(\"First Layer\")\n",
        "print(\"-----------------------------\")\n",
        "#First Layer\n",
        "x1_, w1_ = perceptron_learning(X, w, np.array([1, 1, 1, 0]))\n",
        "print(\"------------------------\")\n",
        "x2_, w2_ = perceptron_learning(X, w, np.array([0, 1, 1, 1]))\n",
        "print(\"-----------------------------\")\n",
        "\n",
        "# Input for second layer\n",
        "X_ = np.vstack([np.ones((1, 4)), x1_, x2_])\n",
        "\n",
        "#Second Layer\n",
        "print(\"Second Layer\")\n",
        "print(\"-----------------------------\")\n",
        "y , w = perceptron_learning(np.transpose(X_), w, np.array([0, 1, 1, 0]))\n",
        "print(\"Predicted values: \", y)\n"
      ],
      "metadata": {
        "colab": {
          "base_uri": "https://localhost:8080/"
        },
        "id": "Q38Cr8X_0O-m",
        "outputId": "d4520ee8-9717-4fd2-d574-f6e4ca677371"
      },
      "execution_count": null,
      "outputs": [
        {
          "output_type": "stream",
          "name": "stdout",
          "text": [
            "XOR Gate\n",
            "-----------------------------\n",
            "First Layer\n",
            "-----------------------------\n",
            "Weights after  1 iteration:  [0.91 0.91 0.91]\n",
            "Predicted values after  1  iteration [1 1 1 1]\n",
            "Weights after  2 iteration:  [0.82 0.82 0.82]\n",
            "Predicted values after  2  iteration [1. 1. 1. 1.]\n",
            "Weights after  3 iteration:  [0.73 0.73 0.73]\n",
            "Predicted values after  3  iteration [1. 1. 1. 1.]\n",
            "Weights after  4 iteration:  [0.64 0.64 0.64]\n",
            "Predicted values after  4  iteration [1. 1. 1. 1.]\n",
            "Weights after  5 iteration:  [0.55 0.55 0.55]\n",
            "Predicted values after  5  iteration [1. 1. 1. 1.]\n",
            "Weights after  6 iteration:  [0.46 0.46 0.46]\n",
            "Predicted values after  6  iteration [1. 1. 1. 1.]\n",
            "Weights after  7 iteration:  [0.37 0.37 0.37]\n",
            "Predicted values after  7  iteration [1. 1. 1. 1.]\n",
            "Weights after  8 iteration:  [0.28 0.28 0.28]\n",
            "Predicted values after  8  iteration [1. 1. 1. 1.]\n",
            "Weights after  9 iteration:  [0.19 0.19 0.19]\n",
            "Predicted values after  9  iteration [1. 1. 1. 1.]\n",
            "Weights after  10 iteration:  [0.1 0.1 0.1]\n",
            "Predicted values after  10  iteration [1. 1. 1. 1.]\n",
            "Weights after  11 iteration:  [0.01 0.01 0.01]\n",
            "Predicted values after  11  iteration [1. 1. 1. 1.]\n",
            "Weights after  12 iteration:  [-0.08 -0.08 -0.08]\n",
            "Predicted values after  12  iteration [1. 1. 1. 1.]\n",
            "Weights after  13 iteration:  [0.19 0.01 0.01]\n",
            "Predicted values after  13  iteration [0. 0. 0. 0.]\n",
            "Weights after  14 iteration:  [ 0.1  -0.08 -0.08]\n",
            "Predicted values after  14  iteration [1. 1. 1. 1.]\n",
            "Converging after  15  iteration\n",
            "Weights  [ 0.1  -0.08 -0.08]\n",
            "------------------------\n",
            "Weights after  1 iteration:  [0.91 1.   1.  ]\n",
            "Predicted values after  1  iteration [1 1 1 1]\n",
            "Weights after  2 iteration:  [0.82 1.   1.  ]\n",
            "Predicted values after  2  iteration [1. 1. 1. 1.]\n",
            "Weights after  3 iteration:  [0.73 1.   1.  ]\n",
            "Predicted values after  3  iteration [1. 1. 1. 1.]\n",
            "Weights after  4 iteration:  [0.64 1.   1.  ]\n",
            "Predicted values after  4  iteration [1. 1. 1. 1.]\n",
            "Weights after  5 iteration:  [0.55 1.   1.  ]\n",
            "Predicted values after  5  iteration [1. 1. 1. 1.]\n",
            "Weights after  6 iteration:  [0.46 1.   1.  ]\n",
            "Predicted values after  6  iteration [1. 1. 1. 1.]\n",
            "Weights after  7 iteration:  [0.37 1.   1.  ]\n",
            "Predicted values after  7  iteration [1. 1. 1. 1.]\n",
            "Weights after  8 iteration:  [0.28 1.   1.  ]\n",
            "Predicted values after  8  iteration [1. 1. 1. 1.]\n",
            "Weights after  9 iteration:  [0.19 1.   1.  ]\n",
            "Predicted values after  9  iteration [1. 1. 1. 1.]\n",
            "Weights after  10 iteration:  [0.1 1.  1. ]\n",
            "Predicted values after  10  iteration [1. 1. 1. 1.]\n",
            "Weights after  11 iteration:  [0.01 1.   1.  ]\n",
            "Predicted values after  11  iteration [1. 1. 1. 1.]\n",
            "Weights after  12 iteration:  [-0.08  1.    1.  ]\n",
            "Predicted values after  12  iteration [1. 1. 1. 1.]\n",
            "Converging after  13  iteration\n",
            "Weights  [-0.08  1.    1.  ]\n",
            "-----------------------------\n",
            "Second Layer\n",
            "-----------------------------\n",
            "Weights after  1 iteration:  [0.82 0.91 0.91]\n",
            "Predicted values after  1  iteration [1. 1. 1. 1.]\n",
            "Weights after  2 iteration:  [0.64 0.82 0.82]\n",
            "Predicted values after  2  iteration [1. 1. 1. 1.]\n",
            "Weights after  3 iteration:  [0.46 0.73 0.73]\n",
            "Predicted values after  3  iteration [1. 1. 1. 1.]\n",
            "Weights after  4 iteration:  [0.28 0.64 0.64]\n",
            "Predicted values after  4  iteration [1. 1. 1. 1.]\n",
            "Weights after  5 iteration:  [0.1  0.55 0.55]\n",
            "Predicted values after  5  iteration [1. 1. 1. 1.]\n",
            "Weights after  6 iteration:  [-0.08  0.46  0.46]\n",
            "Predicted values after  6  iteration [1. 1. 1. 1.]\n",
            "Weights after  7 iteration:  [-0.26  0.37  0.37]\n",
            "Predicted values after  7  iteration [1. 1. 1. 1.]\n",
            "Weights after  8 iteration:  [-0.44  0.28  0.28]\n",
            "Predicted values after  8  iteration [1. 1. 1. 1.]\n",
            "Converging after  9  iteration\n",
            "Weights  [-0.44  0.28  0.28]\n",
            "Predicted values:  [0. 1. 1. 0.]\n"
          ]
        }
      ]
    },
    {
      "cell_type": "code",
      "source": [
        "firing_points_x = [1,0]\n",
        "firing_points_y = [0,1]\n",
        "x1 = np.array([0,0,1,1])\n",
        "x2 = np.array([0,1,0,1])\n",
        "x_1 = np.linspace(0, 2)\n",
        "# y_1 = -1*x_1 + 1.5\n",
        "y_1 = (-w1_[0] - w1_[1]*x_1) / w1_[2]\n",
        "x_2 = np.linspace(0, 2)\n",
        "# y_2 = -1*x_2 + 0.5\n",
        "y_2 = (-w2_[0] - w2_[1]*x_2) / w2_[2]\n",
        "plt.plot(x_1, y_1, linestyle='dashed', color='red')\n",
        "plt.plot(x_2, y_2, linestyle='dashed', color='green')\n",
        "plt.scatter(x1,x2, cmap=\"coolwarm\", marker=\"x\")\n",
        "plt.scatter(firing_points_x,firing_points_y, cmap=\"red\")"
      ],
      "metadata": {
        "colab": {
          "base_uri": "https://localhost:8080/",
          "height": 447
        },
        "id": "46DT-tWlxcoT",
        "outputId": "f21eea9f-7187-4e07-a736-4c3eddf85d8d"
      },
      "execution_count": null,
      "outputs": [
        {
          "output_type": "execute_result",
          "data": {
            "text/plain": [
              "<matplotlib.collections.PathCollection at 0x798d01603a00>"
            ]
          },
          "metadata": {},
          "execution_count": 28
        },
        {
          "output_type": "display_data",
          "data": {
            "text/plain": [
              "<Figure size 640x480 with 1 Axes>"
            ],
            "image/png": "[encoded data removed]"
          },
          "metadata": {}
        }
      ]
    },
    {
      "cell_type": "markdown",
      "source": [
        "##Perceptron Algorithm for 3 inputs"
      ],
      "metadata": {
        "id": "Rbd7cs5hUNxb"
      }
    },
    {
      "cell_type": "code",
      "source": [
        "X_3 = np.array([[1, 0, 0, 0], [1, 0, 0, 1], [1, 0, 1, 0], [1, 0, 1, 1], [1, 1, 0, 0], [1, 1, 0, 1], [1, 1, 1, 0], [1, 1, 1, 1]])\n",
        "w_3 = np.array([1, 1, 1, 1])"
      ],
      "metadata": {
        "id": "rGCLpkMcR7rQ"
      },
      "execution_count": null,
      "outputs": []
    },
    {
      "cell_type": "code",
      "source": [
        "print(\"AND GATE\")\n",
        "print(\"-----------------------------\")\n",
        "p, w1 = perceptron_learning(X_3, w_3, np.array([0, 0, 0, 0, 0, 0, 0, 1]))\n",
        "print(\"Predicted values: \", p)"
      ],
      "metadata": {
        "colab": {
          "base_uri": "https://localhost:8080/"
        },
        "id": "w8et0S-GSfzw",
        "outputId": "eb5774d3-b0ff-451c-a356-d8a11c1f0824"
      },
      "execution_count": null,
      "outputs": [
        {
          "output_type": "stream",
          "name": "stdout",
          "text": [
            "AND GATE\n",
            "-----------------------------\n",
            "Weights after  1 iteration:  [0.37 0.73 0.73 0.73]\n",
            "Predicted values after  1  iteration [1 1 1 1 1 1 1 1]\n",
            "Weights after  2 iteration:  [-0.26  0.46  0.46  0.46]\n",
            "Predicted values after  2  iteration [1. 1. 1. 1. 1. 1. 1. 1.]\n",
            "Weights after  3 iteration:  [-0.8   0.19  0.19  0.19]\n",
            "Predicted values after  3  iteration [0. 1. 1. 1. 1. 1. 1. 1.]\n",
            "Weights after  4 iteration:  [-0.71  0.28  0.28  0.28]\n",
            "Predicted values after  4  iteration [0. 0. 0. 0. 0. 0. 0. 0.]\n",
            "Converging after  5  iteration\n",
            "Weights  [-0.71  0.28  0.28  0.28]\n",
            "Predicted values:  [0. 0. 0. 0. 0. 0. 0. 1.]\n"
          ]
        }
      ]
    },
    {
      "cell_type": "code",
      "source": [
        "print(\"OR GATE\")\n",
        "print(\"-----------------------------\")\n",
        "p, w2 = perceptron_learning(X_3, w_3, np.array([0, 1, 1, 1, 1, 1, 1, 1]))\n",
        "print(\"Predicted values: \", p)"
      ],
      "metadata": {
        "colab": {
          "base_uri": "https://localhost:8080/"
        },
        "id": "W9HbUvweS-8p",
        "outputId": "a52619f7-f452-4a2f-9cb8-a04334465ab7"
      },
      "execution_count": null,
      "outputs": [
        {
          "output_type": "stream",
          "name": "stdout",
          "text": [
            "OR GATE\n",
            "-----------------------------\n",
            "Weights after  1 iteration:  [0.91 1.   1.   1.  ]\n",
            "Predicted values after  1  iteration [1 1 1 1 1 1 1 1]\n",
            "Weights after  2 iteration:  [0.82 1.   1.   1.  ]\n",
            "Predicted values after  2  iteration [1. 1. 1. 1. 1. 1. 1. 1.]\n",
            "Weights after  3 iteration:  [0.73 1.   1.   1.  ]\n",
            "Predicted values after  3  iteration [1. 1. 1. 1. 1. 1. 1. 1.]\n",
            "Weights after  4 iteration:  [0.64 1.   1.   1.  ]\n",
            "Predicted values after  4  iteration [1. 1. 1. 1. 1. 1. 1. 1.]\n",
            "Weights after  5 iteration:  [0.55 1.   1.   1.  ]\n",
            "Predicted values after  5  iteration [1. 1. 1. 1. 1. 1. 1. 1.]\n",
            "Weights after  6 iteration:  [0.46 1.   1.   1.  ]\n",
            "Predicted values after  6  iteration [1. 1. 1. 1. 1. 1. 1. 1.]\n",
            "Weights after  7 iteration:  [0.37 1.   1.   1.  ]\n",
            "Predicted values after  7  iteration [1. 1. 1. 1. 1. 1. 1. 1.]\n",
            "Weights after  8 iteration:  [0.28 1.   1.   1.  ]\n",
            "Predicted values after  8  iteration [1. 1. 1. 1. 1. 1. 1. 1.]\n",
            "Weights after  9 iteration:  [0.19 1.   1.   1.  ]\n",
            "Predicted values after  9  iteration [1. 1. 1. 1. 1. 1. 1. 1.]\n",
            "Weights after  10 iteration:  [0.1 1.  1.  1. ]\n",
            "Predicted values after  10  iteration [1. 1. 1. 1. 1. 1. 1. 1.]\n",
            "Weights after  11 iteration:  [0.01 1.   1.   1.  ]\n",
            "Predicted values after  11  iteration [1. 1. 1. 1. 1. 1. 1. 1.]\n",
            "Weights after  12 iteration:  [-0.08  1.    1.    1.  ]\n",
            "Predicted values after  12  iteration [1. 1. 1. 1. 1. 1. 1. 1.]\n",
            "Converging after  13  iteration\n",
            "Weights  [-0.08  1.    1.    1.  ]\n",
            "Predicted values:  [0. 1. 1. 1. 1. 1. 1. 1.]\n"
          ]
        }
      ]
    },
    {
      "cell_type": "code",
      "source": [
        "print(\"NAND GATE\")\n",
        "print(\"-----------------------------\")\n",
        "p, w3 = perceptron_learning(X_3, w_3, np.array([1, 1, 1, 1, 1, 1, 1, 0]))\n",
        "print(\"Predicted values: \", p)"
      ],
      "metadata": {
        "colab": {
          "base_uri": "https://localhost:8080/"
        },
        "id": "_sBEQWAAUB-U",
        "outputId": "4dec1710-bd1e-4959-c2ce-44267db6925f"
      },
      "execution_count": null,
      "outputs": [
        {
          "output_type": "stream",
          "name": "stdout",
          "text": [
            "NAND GATE\n",
            "-----------------------------\n",
            "Weights after  1 iteration:  [0.91 0.91 0.91 0.91]\n",
            "Predicted values after  1  iteration [1 1 1 1 1 1 1 1]\n",
            "Weights after  2 iteration:  [0.82 0.82 0.82 0.82]\n",
            "Predicted values after  2  iteration [1. 1. 1. 1. 1. 1. 1. 1.]\n",
            "Weights after  3 iteration:  [0.73 0.73 0.73 0.73]\n",
            "Predicted values after  3  iteration [1. 1. 1. 1. 1. 1. 1. 1.]\n",
            "Weights after  4 iteration:  [0.64 0.64 0.64 0.64]\n",
            "Predicted values after  4  iteration [1. 1. 1. 1. 1. 1. 1. 1.]\n",
            "Weights after  5 iteration:  [0.55 0.55 0.55 0.55]\n",
            "Predicted values after  5  iteration [1. 1. 1. 1. 1. 1. 1. 1.]\n",
            "Weights after  6 iteration:  [0.46 0.46 0.46 0.46]\n",
            "Predicted values after  6  iteration [1. 1. 1. 1. 1. 1. 1. 1.]\n",
            "Weights after  7 iteration:  [0.37 0.37 0.37 0.37]\n",
            "Predicted values after  7  iteration [1. 1. 1. 1. 1. 1. 1. 1.]\n",
            "Weights after  8 iteration:  [0.28 0.28 0.28 0.28]\n",
            "Predicted values after  8  iteration [1. 1. 1. 1. 1. 1. 1. 1.]\n",
            "Weights after  9 iteration:  [0.19 0.19 0.19 0.19]\n",
            "Predicted values after  9  iteration [1. 1. 1. 1. 1. 1. 1. 1.]\n",
            "Weights after  10 iteration:  [0.1 0.1 0.1 0.1]\n",
            "Predicted values after  10  iteration [1. 1. 1. 1. 1. 1. 1. 1.]\n",
            "Weights after  11 iteration:  [0.01 0.01 0.01 0.01]\n",
            "Predicted values after  11  iteration [1. 1. 1. 1. 1. 1. 1. 1.]\n",
            "Weights after  12 iteration:  [-0.08 -0.08 -0.08 -0.08]\n",
            "Predicted values after  12  iteration [1. 1. 1. 1. 1. 1. 1. 1.]\n",
            "Weights after  13 iteration:  [0.55 0.19 0.19 0.19]\n",
            "Predicted values after  13  iteration [0. 0. 0. 0. 0. 0. 0. 0.]\n",
            "Weights after  14 iteration:  [0.46 0.1  0.1  0.1 ]\n",
            "Predicted values after  14  iteration [1. 1. 1. 1. 1. 1. 1. 1.]\n",
            "Weights after  15 iteration:  [0.37 0.01 0.01 0.01]\n",
            "Predicted values after  15  iteration [1. 1. 1. 1. 1. 1. 1. 1.]\n",
            "Weights after  16 iteration:  [ 0.28 -0.08 -0.08 -0.08]\n",
            "Predicted values after  16  iteration [1. 1. 1. 1. 1. 1. 1. 1.]\n",
            "Weights after  17 iteration:  [ 0.19 -0.17 -0.17 -0.17]\n",
            "Predicted values after  17  iteration [1. 1. 1. 1. 1. 1. 1. 1.]\n",
            "Weights after  18 iteration:  [0.46 0.01 0.01 0.01]\n",
            "Predicted values after  18  iteration [1. 1. 1. 0. 1. 0. 0. 0.]\n",
            "Weights after  19 iteration:  [ 0.37 -0.08 -0.08 -0.08]\n",
            "Predicted values after  19  iteration [1. 1. 1. 1. 1. 1. 1. 1.]\n",
            "Weights after  20 iteration:  [ 0.28 -0.17 -0.17 -0.17]\n",
            "Predicted values after  20  iteration [1. 1. 1. 1. 1. 1. 1. 1.]\n",
            "Weights after  21 iteration:  [0.55 0.01 0.01 0.01]\n",
            "Predicted values after  21  iteration [1. 1. 1. 0. 1. 0. 0. 0.]\n",
            "Weights after  22 iteration:  [ 0.46 -0.08 -0.08 -0.08]\n",
            "Predicted values after  22  iteration [1. 1. 1. 1. 1. 1. 1. 1.]\n",
            "Weights after  23 iteration:  [ 0.37 -0.17 -0.17 -0.17]\n",
            "Predicted values after  23  iteration [1. 1. 1. 1. 1. 1. 1. 1.]\n",
            "Converging after  24  iteration\n",
            "Weights  [ 0.37 -0.17 -0.17 -0.17]\n",
            "Predicted values:  [1. 1. 1. 1. 1. 1. 1. 0.]\n"
          ]
        }
      ]
    }
  ]
}
