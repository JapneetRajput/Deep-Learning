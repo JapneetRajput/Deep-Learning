{
  "nbformat": 4,
  "nbformat_minor": 0,
  "metadata": {
    "colab": {
      "provenance": []
    },
    "kernelspec": {
      "name": "python3",
      "display_name": "Python 3"
    },
    "language_info": {
      "name": "python"
    }
  },
  "cells": [
    {
      "cell_type": "code",
      "execution_count": null,
      "metadata": {
        "id": "A0UmV7Zr7ELz"
      },
      "outputs": [],
      "source": [
        "import numpy as np\n",
        "import pandas as pd\n",
        "import matplotlib.pyplot as plt\n",
        "import tensorflow as tf\n",
        "from sklearn.datasets import load_iris\n",
        "from sklearn.model_selection import train_test_split\n",
        "from sklearn.preprocessing import StandardScaler"
      ]
    },
    {
      "cell_type": "code",
      "source": [
        "# Load the Iris dataset\n",
        "iris = load_iris()\n",
        "\n",
        "# Access the features and target variable\n",
        "X = iris.data  # Features (sepal length, sepal width, petal length, petal width)\n",
        "y = iris.target  # Target variable (iris species)\n",
        "\n",
        "# Optionally, you can also access feature names and target names\n",
        "feature_names = iris.feature_names\n",
        "target_names = iris.target_names"
      ],
      "metadata": {
        "id": "uK1qMw8a9QYr"
      },
      "execution_count": null,
      "outputs": []
    },
    {
      "cell_type": "code",
      "source": [
        "target_names"
      ],
      "metadata": {
        "colab": {
          "base_uri": "https://localhost:8080/"
        },
        "id": "zSHmQ3uI9TDI",
        "outputId": "64190971-966a-48d2-c455-ed7b08a0add7"
      },
      "execution_count": null,
      "outputs": [
        {
          "output_type": "execute_result",
          "data": {
            "text/plain": [
              "array(['setosa', 'versicolor', 'virginica'], dtype='<U10')"
            ]
          },
          "metadata": {},
          "execution_count": 67
        }
      ]
    },
    {
      "cell_type": "code",
      "source": [
        "# Split the data into training and testing sets\n",
        "X_train, X_test, y_train, y_test = train_test_split(X, y, test_size=0.2, random_state=42)\n",
        "\n",
        "# Standardize the data\n",
        "scaler = StandardScaler()\n",
        "X_train = scaler.fit_transform(X_train)\n",
        "X_test = scaler.transform(X_test)\n",
        "\n"
      ],
      "metadata": {
        "id": "3F8ysw2g-BZN"
      },
      "execution_count": null,
      "outputs": []
    },
    {
      "cell_type": "code",
      "source": [
        "# Define the single-layer feed-forward neural network\n",
        "model = tf.keras.Sequential([\n",
        "    tf.keras.layers.Dense(3, activation='softmax', input_shape=(X_train.shape[1],))\n",
        "])\n",
        "\n",
        "# Compile the model with the chosen optimizer and loss function\n",
        "optimizer_sgd = tf.keras.optimizers.SGD(learning_rate=0.01)\n",
        "optimizer_mini_batch = tf.keras.optimizers.SGD(learning_rate=0.01)\n",
        "optimizer_momentum = tf.keras.optimizers.SGD(learning_rate=0.01, momentum=0.9)\n",
        "optimizer_nesterov = tf.keras.optimizers.SGD(learning_rate=0.01, momentum=0.9, nesterov=True)\n",
        "optimizer_adagrad = tf.keras.optimizers.Adagrad(learning_rate=0.01)\n",
        "optimizer_adam = tf.keras.optimizers.Adam(learning_rate=0.01)\n",
        "\n"
      ],
      "metadata": {
        "id": "txZiuSUY0n-Q"
      },
      "execution_count": null,
      "outputs": []
    },
    {
      "cell_type": "code",
      "source": [
        "model1 = tf.keras.Sequential([\n",
        "    tf.keras.layers.Dense(3, activation='softmax', input_shape=(X_train.shape[1],))\n",
        "])\n",
        "model1.compile(optimizer=optimizer_sgd,\n",
        "              loss='sparse_categorical_crossentropy',\n",
        "              metrics='accuracy')\n",
        "\n",
        "# Train the model\n",
        "model1.fit(X_train, y_train, epochs=50, validation_split=0.1)"
      ],
      "metadata": {
        "colab": {
          "base_uri": "https://localhost:8080/"
        },
        "id": "gy5HwbAg3c7z",
        "outputId": "318dd040-1772-499f-eaaa-16ccc2e5aa31"
      },
      "execution_count": null,
      "outputs": [
        {
          "output_type": "stream",
          "name": "stdout",
          "text": [
            "Epoch 1/50\n",
            "4/4 [==============================] - 0s 57ms/step - loss: 1.1908 - accuracy: 0.3889 - val_loss: 1.0736 - val_accuracy: 0.4167\n",
            "Epoch 2/50\n",
            "4/4 [==============================] - 0s 10ms/step - loss: 1.1461 - accuracy: 0.4167 - val_loss: 1.0390 - val_accuracy: 0.4167\n",
            "Epoch 3/50\n",
            "4/4 [==============================] - 0s 16ms/step - loss: 1.1011 - accuracy: 0.4630 - val_loss: 1.0063 - val_accuracy: 0.4167\n",
            "Epoch 4/50\n",
            "4/4 [==============================] - 0s 10ms/step - loss: 1.0577 - accuracy: 0.4907 - val_loss: 0.9755 - val_accuracy: 0.5000\n",
            "Epoch 5/50\n",
            "4/4 [==============================] - 0s 10ms/step - loss: 1.0176 - accuracy: 0.5463 - val_loss: 0.9469 - val_accuracy: 0.5000\n",
            "Epoch 6/50\n",
            "4/4 [==============================] - 0s 10ms/step - loss: 0.9811 - accuracy: 0.5926 - val_loss: 0.9220 - val_accuracy: 0.5000\n",
            "Epoch 7/50\n",
            "4/4 [==============================] - 0s 10ms/step - loss: 0.9489 - accuracy: 0.5926 - val_loss: 0.8984 - val_accuracy: 0.5833\n",
            "Epoch 8/50\n",
            "4/4 [==============================] - 0s 10ms/step - loss: 0.9190 - accuracy: 0.6296 - val_loss: 0.8768 - val_accuracy: 0.5833\n",
            "Epoch 9/50\n",
            "4/4 [==============================] - 0s 10ms/step - loss: 0.8928 - accuracy: 0.6296 - val_loss: 0.8570 - val_accuracy: 0.5833\n",
            "Epoch 10/50\n",
            "4/4 [==============================] - 0s 10ms/step - loss: 0.8684 - accuracy: 0.6296 - val_loss: 0.8387 - val_accuracy: 0.5833\n",
            "Epoch 11/50\n",
            "4/4 [==============================] - 0s 11ms/step - loss: 0.8457 - accuracy: 0.6574 - val_loss: 0.8196 - val_accuracy: 0.5833\n",
            "Epoch 12/50\n",
            "4/4 [==============================] - 0s 10ms/step - loss: 0.8224 - accuracy: 0.6574 - val_loss: 0.8006 - val_accuracy: 0.6667\n",
            "Epoch 13/50\n",
            "4/4 [==============================] - 0s 10ms/step - loss: 0.8000 - accuracy: 0.6667 - val_loss: 0.7848 - val_accuracy: 0.6667\n",
            "Epoch 14/50\n",
            "4/4 [==============================] - 0s 10ms/step - loss: 0.7814 - accuracy: 0.6852 - val_loss: 0.7695 - val_accuracy: 0.6667\n",
            "Epoch 15/50\n",
            "4/4 [==============================] - 0s 11ms/step - loss: 0.7638 - accuracy: 0.6944 - val_loss: 0.7553 - val_accuracy: 0.6667\n",
            "Epoch 16/50\n",
            "4/4 [==============================] - 0s 10ms/step - loss: 0.7478 - accuracy: 0.6944 - val_loss: 0.7436 - val_accuracy: 0.6667\n",
            "Epoch 17/50\n",
            "4/4 [==============================] - 0s 12ms/step - loss: 0.7335 - accuracy: 0.6944 - val_loss: 0.7307 - val_accuracy: 0.6667\n",
            "Epoch 18/50\n",
            "4/4 [==============================] - 0s 24ms/step - loss: 0.7192 - accuracy: 0.6944 - val_loss: 0.7183 - val_accuracy: 0.6667\n",
            "Epoch 19/50\n",
            "4/4 [==============================] - 0s 16ms/step - loss: 0.7051 - accuracy: 0.6944 - val_loss: 0.7078 - val_accuracy: 0.6667\n",
            "Epoch 20/50\n",
            "4/4 [==============================] - 0s 21ms/step - loss: 0.6930 - accuracy: 0.6944 - val_loss: 0.6966 - val_accuracy: 0.6667\n",
            "Epoch 21/50\n",
            "4/4 [==============================] - 0s 20ms/step - loss: 0.6806 - accuracy: 0.7037 - val_loss: 0.6857 - val_accuracy: 0.6667\n",
            "Epoch 22/50\n",
            "4/4 [==============================] - 0s 20ms/step - loss: 0.6691 - accuracy: 0.7222 - val_loss: 0.6762 - val_accuracy: 0.6667\n",
            "Epoch 23/50\n",
            "4/4 [==============================] - 0s 20ms/step - loss: 0.6587 - accuracy: 0.7222 - val_loss: 0.6670 - val_accuracy: 0.6667\n",
            "Epoch 24/50\n",
            "4/4 [==============================] - 0s 18ms/step - loss: 0.6487 - accuracy: 0.7315 - val_loss: 0.6578 - val_accuracy: 0.6667\n",
            "Epoch 25/50\n",
            "4/4 [==============================] - 0s 15ms/step - loss: 0.6387 - accuracy: 0.7222 - val_loss: 0.6475 - val_accuracy: 0.7500\n",
            "Epoch 26/50\n",
            "4/4 [==============================] - 0s 14ms/step - loss: 0.6279 - accuracy: 0.7222 - val_loss: 0.6398 - val_accuracy: 0.7500\n",
            "Epoch 27/50\n",
            "4/4 [==============================] - 0s 19ms/step - loss: 0.6197 - accuracy: 0.7315 - val_loss: 0.6327 - val_accuracy: 0.7500\n",
            "Epoch 28/50\n",
            "4/4 [==============================] - 0s 20ms/step - loss: 0.6123 - accuracy: 0.7315 - val_loss: 0.6257 - val_accuracy: 0.7500\n",
            "Epoch 29/50\n",
            "4/4 [==============================] - 0s 22ms/step - loss: 0.6046 - accuracy: 0.7315 - val_loss: 0.6186 - val_accuracy: 0.8333\n",
            "Epoch 30/50\n",
            "4/4 [==============================] - 0s 21ms/step - loss: 0.5970 - accuracy: 0.7315 - val_loss: 0.6113 - val_accuracy: 0.8333\n",
            "Epoch 31/50\n",
            "4/4 [==============================] - 0s 21ms/step - loss: 0.5897 - accuracy: 0.7315 - val_loss: 0.6051 - val_accuracy: 0.8333\n",
            "Epoch 32/50\n",
            "4/4 [==============================] - 0s 22ms/step - loss: 0.5832 - accuracy: 0.7407 - val_loss: 0.5994 - val_accuracy: 0.8333\n",
            "Epoch 33/50\n",
            "4/4 [==============================] - 0s 14ms/step - loss: 0.5775 - accuracy: 0.7500 - val_loss: 0.5936 - val_accuracy: 0.8333\n",
            "Epoch 34/50\n",
            "4/4 [==============================] - 0s 22ms/step - loss: 0.5714 - accuracy: 0.7500 - val_loss: 0.5883 - val_accuracy: 0.8333\n",
            "Epoch 35/50\n",
            "4/4 [==============================] - 0s 14ms/step - loss: 0.5661 - accuracy: 0.7500 - val_loss: 0.5830 - val_accuracy: 0.8333\n",
            "Epoch 36/50\n",
            "4/4 [==============================] - 0s 20ms/step - loss: 0.5607 - accuracy: 0.7593 - val_loss: 0.5782 - val_accuracy: 0.9167\n",
            "Epoch 37/50\n",
            "4/4 [==============================] - 0s 21ms/step - loss: 0.5559 - accuracy: 0.7593 - val_loss: 0.5735 - val_accuracy: 0.9167\n",
            "Epoch 38/50\n",
            "4/4 [==============================] - 0s 16ms/step - loss: 0.5512 - accuracy: 0.7593 - val_loss: 0.5688 - val_accuracy: 0.9167\n",
            "Epoch 39/50\n",
            "4/4 [==============================] - 0s 16ms/step - loss: 0.5463 - accuracy: 0.7593 - val_loss: 0.5639 - val_accuracy: 0.9167\n",
            "Epoch 40/50\n",
            "4/4 [==============================] - 0s 24ms/step - loss: 0.5415 - accuracy: 0.7593 - val_loss: 0.5592 - val_accuracy: 0.9167\n",
            "Epoch 41/50\n",
            "4/4 [==============================] - 0s 17ms/step - loss: 0.5368 - accuracy: 0.7593 - val_loss: 0.5547 - val_accuracy: 0.9167\n",
            "Epoch 42/50\n",
            "4/4 [==============================] - 0s 22ms/step - loss: 0.5325 - accuracy: 0.7593 - val_loss: 0.5510 - val_accuracy: 0.9167\n",
            "Epoch 43/50\n",
            "4/4 [==============================] - 0s 23ms/step - loss: 0.5289 - accuracy: 0.7593 - val_loss: 0.5473 - val_accuracy: 0.9167\n",
            "Epoch 44/50\n",
            "4/4 [==============================] - 0s 20ms/step - loss: 0.5252 - accuracy: 0.7685 - val_loss: 0.5439 - val_accuracy: 0.9167\n",
            "Epoch 45/50\n",
            "4/4 [==============================] - 0s 20ms/step - loss: 0.5219 - accuracy: 0.7593 - val_loss: 0.5404 - val_accuracy: 0.9167\n",
            "Epoch 46/50\n",
            "4/4 [==============================] - 0s 18ms/step - loss: 0.5186 - accuracy: 0.7407 - val_loss: 0.5375 - val_accuracy: 0.9167\n",
            "Epoch 47/50\n",
            "4/4 [==============================] - 0s 16ms/step - loss: 0.5158 - accuracy: 0.7407 - val_loss: 0.5345 - val_accuracy: 0.9167\n",
            "Epoch 48/50\n",
            "4/4 [==============================] - 0s 16ms/step - loss: 0.5127 - accuracy: 0.7500 - val_loss: 0.5311 - val_accuracy: 0.9167\n",
            "Epoch 49/50\n",
            "4/4 [==============================] - 0s 15ms/step - loss: 0.5095 - accuracy: 0.7500 - val_loss: 0.5278 - val_accuracy: 0.9167\n",
            "Epoch 50/50\n",
            "4/4 [==============================] - 0s 21ms/step - loss: 0.5065 - accuracy: 0.7500 - val_loss: 0.5253 - val_accuracy: 0.9167\n"
          ]
        },
        {
          "output_type": "execute_result",
          "data": {
            "text/plain": [
              "<keras.src.callbacks.History at 0x7a21c14fccd0>"
            ]
          },
          "metadata": {},
          "execution_count": 70
        }
      ]
    },
    {
      "cell_type": "code",
      "source": [
        "# Evaluate the model on the test set\n",
        "test_loss_sgd, test_accuracy_sgd = model1.evaluate(X_test, y_test)\n",
        "print(f'Test loss: {test_loss_sgd} Test Accuracy: {test_accuracy_sgd}')"
      ],
      "metadata": {
        "colab": {
          "base_uri": "https://localhost:8080/"
        },
        "id": "Aln0popX4JWO",
        "outputId": "3ebd6f1f-11e5-4d04-fb96-8a91d79678c8"
      },
      "execution_count": null,
      "outputs": [
        {
          "output_type": "stream",
          "name": "stdout",
          "text": [
            "1/1 [==============================] - 0s 22ms/step - loss: 0.4838 - accuracy: 0.9000\n",
            "Test loss: 0.4838499426841736 Test Accuracy: 0.8999999761581421\n"
          ]
        }
      ]
    },
    {
      "cell_type": "code",
      "source": [
        "model2 = tf.keras.Sequential([\n",
        "    tf.keras.layers.Dense(3, activation='softmax', input_shape=(X_train.shape[1],))\n",
        "])\n",
        "model2.compile(optimizer=optimizer_mini_batch,\n",
        "              loss='sparse_categorical_crossentropy',\n",
        "              metrics='accuracy')\n",
        "\n",
        "# Train the model\n",
        "model2.fit(X_train, y_train, epochs=50, validation_split=0.1,batch_size=32)"
      ],
      "metadata": {
        "colab": {
          "base_uri": "https://localhost:8080/"
        },
        "id": "rxO9YhcO_xrn",
        "outputId": "81140ece-d038-41dc-a864-e71d2de634cc"
      },
      "execution_count": null,
      "outputs": [
        {
          "output_type": "stream",
          "name": "stdout",
          "text": [
            "Epoch 1/50\n",
            "4/4 [==============================] - 0s 56ms/step - loss: 0.7661 - accuracy: 0.6389 - val_loss: 0.8877 - val_accuracy: 0.5833\n",
            "Epoch 2/50\n",
            "4/4 [==============================] - 0s 10ms/step - loss: 0.7522 - accuracy: 0.6389 - val_loss: 0.8764 - val_accuracy: 0.5833\n",
            "Epoch 3/50\n",
            "4/4 [==============================] - 0s 9ms/step - loss: 0.7373 - accuracy: 0.6389 - val_loss: 0.8679 - val_accuracy: 0.5833\n",
            "Epoch 4/50\n",
            "4/4 [==============================] - 0s 9ms/step - loss: 0.7242 - accuracy: 0.6481 - val_loss: 0.8567 - val_accuracy: 0.5833\n",
            "Epoch 5/50\n",
            "4/4 [==============================] - 0s 10ms/step - loss: 0.7090 - accuracy: 0.6389 - val_loss: 0.8476 - val_accuracy: 0.5833\n",
            "Epoch 6/50\n",
            "4/4 [==============================] - 0s 9ms/step - loss: 0.6963 - accuracy: 0.6296 - val_loss: 0.8392 - val_accuracy: 0.5833\n",
            "Epoch 7/50\n",
            "4/4 [==============================] - 0s 9ms/step - loss: 0.6847 - accuracy: 0.6111 - val_loss: 0.8318 - val_accuracy: 0.5000\n",
            "Epoch 8/50\n",
            "4/4 [==============================] - 0s 10ms/step - loss: 0.6744 - accuracy: 0.6019 - val_loss: 0.8245 - val_accuracy: 0.5000\n",
            "Epoch 9/50\n",
            "4/4 [==============================] - 0s 9ms/step - loss: 0.6642 - accuracy: 0.6111 - val_loss: 0.8181 - val_accuracy: 0.5000\n",
            "Epoch 10/50\n",
            "4/4 [==============================] - 0s 10ms/step - loss: 0.6550 - accuracy: 0.6111 - val_loss: 0.8097 - val_accuracy: 0.5000\n",
            "Epoch 11/50\n",
            "4/4 [==============================] - 0s 10ms/step - loss: 0.6443 - accuracy: 0.6111 - val_loss: 0.8042 - val_accuracy: 0.5000\n",
            "Epoch 12/50\n",
            "4/4 [==============================] - 0s 10ms/step - loss: 0.6363 - accuracy: 0.6111 - val_loss: 0.7981 - val_accuracy: 0.5000\n",
            "Epoch 13/50\n",
            "4/4 [==============================] - 0s 12ms/step - loss: 0.6281 - accuracy: 0.6204 - val_loss: 0.7916 - val_accuracy: 0.5000\n",
            "Epoch 14/50\n",
            "4/4 [==============================] - 0s 10ms/step - loss: 0.6193 - accuracy: 0.6296 - val_loss: 0.7867 - val_accuracy: 0.5000\n",
            "Epoch 15/50\n",
            "4/4 [==============================] - 0s 9ms/step - loss: 0.6126 - accuracy: 0.6481 - val_loss: 0.7814 - val_accuracy: 0.5000\n",
            "Epoch 16/50\n",
            "4/4 [==============================] - 0s 9ms/step - loss: 0.6056 - accuracy: 0.6574 - val_loss: 0.7756 - val_accuracy: 0.5000\n",
            "Epoch 17/50\n",
            "4/4 [==============================] - 0s 10ms/step - loss: 0.5979 - accuracy: 0.6574 - val_loss: 0.7702 - val_accuracy: 0.5000\n",
            "Epoch 18/50\n",
            "4/4 [==============================] - 0s 9ms/step - loss: 0.5910 - accuracy: 0.6389 - val_loss: 0.7661 - val_accuracy: 0.5000\n",
            "Epoch 19/50\n",
            "4/4 [==============================] - 0s 9ms/step - loss: 0.5852 - accuracy: 0.6481 - val_loss: 0.7613 - val_accuracy: 0.5833\n",
            "Epoch 20/50\n",
            "4/4 [==============================] - 0s 10ms/step - loss: 0.5792 - accuracy: 0.6574 - val_loss: 0.7568 - val_accuracy: 0.5833\n",
            "Epoch 21/50\n",
            "4/4 [==============================] - 0s 13ms/step - loss: 0.5739 - accuracy: 0.6667 - val_loss: 0.7522 - val_accuracy: 0.5833\n",
            "Epoch 22/50\n",
            "4/4 [==============================] - 0s 10ms/step - loss: 0.5678 - accuracy: 0.6667 - val_loss: 0.7483 - val_accuracy: 0.6667\n",
            "Epoch 23/50\n",
            "4/4 [==============================] - 0s 9ms/step - loss: 0.5632 - accuracy: 0.6759 - val_loss: 0.7439 - val_accuracy: 0.6667\n",
            "Epoch 24/50\n",
            "4/4 [==============================] - 0s 10ms/step - loss: 0.5580 - accuracy: 0.6944 - val_loss: 0.7405 - val_accuracy: 0.5833\n",
            "Epoch 25/50\n",
            "4/4 [==============================] - 0s 9ms/step - loss: 0.5536 - accuracy: 0.6944 - val_loss: 0.7367 - val_accuracy: 0.5833\n",
            "Epoch 26/50\n",
            "4/4 [==============================] - 0s 9ms/step - loss: 0.5487 - accuracy: 0.6944 - val_loss: 0.7329 - val_accuracy: 0.5833\n",
            "Epoch 27/50\n",
            "4/4 [==============================] - 0s 10ms/step - loss: 0.5442 - accuracy: 0.6944 - val_loss: 0.7297 - val_accuracy: 0.5833\n",
            "Epoch 28/50\n",
            "4/4 [==============================] - 0s 10ms/step - loss: 0.5402 - accuracy: 0.7037 - val_loss: 0.7261 - val_accuracy: 0.5833\n",
            "Epoch 29/50\n",
            "4/4 [==============================] - 0s 11ms/step - loss: 0.5359 - accuracy: 0.7130 - val_loss: 0.7227 - val_accuracy: 0.5833\n",
            "Epoch 30/50\n",
            "4/4 [==============================] - 0s 10ms/step - loss: 0.5323 - accuracy: 0.7315 - val_loss: 0.7193 - val_accuracy: 0.5833\n",
            "Epoch 31/50\n",
            "4/4 [==============================] - 0s 9ms/step - loss: 0.5283 - accuracy: 0.7315 - val_loss: 0.7162 - val_accuracy: 0.5833\n",
            "Epoch 32/50\n",
            "4/4 [==============================] - 0s 9ms/step - loss: 0.5249 - accuracy: 0.7407 - val_loss: 0.7131 - val_accuracy: 0.5833\n",
            "Epoch 33/50\n",
            "4/4 [==============================] - 0s 9ms/step - loss: 0.5215 - accuracy: 0.7593 - val_loss: 0.7108 - val_accuracy: 0.5833\n",
            "Epoch 34/50\n",
            "4/4 [==============================] - 0s 9ms/step - loss: 0.5185 - accuracy: 0.7593 - val_loss: 0.7084 - val_accuracy: 0.5833\n",
            "Epoch 35/50\n",
            "4/4 [==============================] - 0s 9ms/step - loss: 0.5156 - accuracy: 0.7685 - val_loss: 0.7059 - val_accuracy: 0.5833\n",
            "Epoch 36/50\n",
            "4/4 [==============================] - 0s 9ms/step - loss: 0.5127 - accuracy: 0.7685 - val_loss: 0.7034 - val_accuracy: 0.5833\n",
            "Epoch 37/50\n",
            "4/4 [==============================] - 0s 9ms/step - loss: 0.5098 - accuracy: 0.7685 - val_loss: 0.7009 - val_accuracy: 0.5833\n",
            "Epoch 38/50\n",
            "4/4 [==============================] - 0s 10ms/step - loss: 0.5071 - accuracy: 0.7778 - val_loss: 0.6980 - val_accuracy: 0.5833\n",
            "Epoch 39/50\n",
            "4/4 [==============================] - 0s 10ms/step - loss: 0.5040 - accuracy: 0.7778 - val_loss: 0.6958 - val_accuracy: 0.5833\n",
            "Epoch 40/50\n",
            "4/4 [==============================] - 0s 11ms/step - loss: 0.5017 - accuracy: 0.7778 - val_loss: 0.6935 - val_accuracy: 0.5833\n",
            "Epoch 41/50\n",
            "4/4 [==============================] - 0s 10ms/step - loss: 0.4994 - accuracy: 0.7778 - val_loss: 0.6915 - val_accuracy: 0.5833\n",
            "Epoch 42/50\n",
            "4/4 [==============================] - 0s 10ms/step - loss: 0.4968 - accuracy: 0.7778 - val_loss: 0.6895 - val_accuracy: 0.5833\n",
            "Epoch 43/50\n",
            "4/4 [==============================] - 0s 10ms/step - loss: 0.4945 - accuracy: 0.7778 - val_loss: 0.6875 - val_accuracy: 0.5833\n",
            "Epoch 44/50\n",
            "4/4 [==============================] - 0s 10ms/step - loss: 0.4926 - accuracy: 0.7778 - val_loss: 0.6855 - val_accuracy: 0.5833\n",
            "Epoch 45/50\n",
            "4/4 [==============================] - 0s 10ms/step - loss: 0.4902 - accuracy: 0.7778 - val_loss: 0.6836 - val_accuracy: 0.5833\n",
            "Epoch 46/50\n",
            "4/4 [==============================] - 0s 10ms/step - loss: 0.4881 - accuracy: 0.7870 - val_loss: 0.6816 - val_accuracy: 0.5833\n",
            "Epoch 47/50\n",
            "4/4 [==============================] - 0s 10ms/step - loss: 0.4863 - accuracy: 0.7963 - val_loss: 0.6801 - val_accuracy: 0.5833\n",
            "Epoch 48/50\n",
            "4/4 [==============================] - 0s 14ms/step - loss: 0.4843 - accuracy: 0.8056 - val_loss: 0.6779 - val_accuracy: 0.5833\n",
            "Epoch 49/50\n",
            "4/4 [==============================] - 0s 11ms/step - loss: 0.4824 - accuracy: 0.8056 - val_loss: 0.6760 - val_accuracy: 0.5833\n",
            "Epoch 50/50\n",
            "4/4 [==============================] - 0s 11ms/step - loss: 0.4806 - accuracy: 0.7963 - val_loss: 0.6743 - val_accuracy: 0.5833\n"
          ]
        },
        {
          "output_type": "execute_result",
          "data": {
            "text/plain": [
              "<keras.src.callbacks.History at 0x7a21c1160af0>"
            ]
          },
          "metadata": {},
          "execution_count": 72
        }
      ]
    },
    {
      "cell_type": "code",
      "source": [
        "# Evaluate the model on the test set\n",
        "test_loss_mbgd, test_accuracy_mbgd = model2.evaluate(X_test, y_test)\n",
        "print(f'Test loss: {test_loss_mbgd} Test Accuracy: {test_accuracy_mbgd}')"
      ],
      "metadata": {
        "colab": {
          "base_uri": "https://localhost:8080/"
        },
        "id": "4VQ_6jsB_yFu",
        "outputId": "6618ae0c-3d2c-4c83-e0c6-9be0b24f0396"
      },
      "execution_count": null,
      "outputs": [
        {
          "output_type": "stream",
          "name": "stdout",
          "text": [
            "1/1 [==============================] - 0s 23ms/step - loss: 0.4608 - accuracy: 0.8667\n",
            "Test loss: 0.460835725069046 Test Accuracy: 0.8666666746139526\n"
          ]
        }
      ]
    },
    {
      "cell_type": "code",
      "source": [
        "model3 = tf.keras.Sequential([\n",
        "    tf.keras.layers.Dense(3, activation='softmax', input_shape=(X_train.shape[1],))\n",
        "])\n",
        "model3.compile(optimizer=optimizer_momentum,\n",
        "              loss='sparse_categorical_crossentropy',\n",
        "              metrics='accuracy')\n",
        "\n",
        "# Train the model\n",
        "model3.fit(X_train, y_train, epochs=50, validation_split=0.1,batch_size=32)"
      ],
      "metadata": {
        "colab": {
          "base_uri": "https://localhost:8080/"
        },
        "id": "_SF7xRrJANM1",
        "outputId": "68c120d0-e8ce-4795-ae9b-fe05bf3e47d5"
      },
      "execution_count": null,
      "outputs": [
        {
          "output_type": "stream",
          "name": "stdout",
          "text": [
            "Epoch 1/50\n",
            "4/4 [==============================] - 0s 56ms/step - loss: 2.0800 - accuracy: 0.1389 - val_loss: 1.2312 - val_accuracy: 0.5000\n",
            "Epoch 2/50\n",
            "4/4 [==============================] - 0s 10ms/step - loss: 1.8041 - accuracy: 0.1852 - val_loss: 1.0302 - val_accuracy: 0.4167\n",
            "Epoch 3/50\n",
            "4/4 [==============================] - 0s 10ms/step - loss: 1.3791 - accuracy: 0.2870 - val_loss: 0.8367 - val_accuracy: 0.6667\n",
            "Epoch 4/50\n",
            "4/4 [==============================] - 0s 10ms/step - loss: 0.9846 - accuracy: 0.4722 - val_loss: 0.6990 - val_accuracy: 0.8333\n",
            "Epoch 5/50\n",
            "4/4 [==============================] - 0s 10ms/step - loss: 0.7283 - accuracy: 0.6944 - val_loss: 0.6190 - val_accuracy: 0.8333\n",
            "Epoch 6/50\n",
            "4/4 [==============================] - 0s 9ms/step - loss: 0.5722 - accuracy: 0.7778 - val_loss: 0.5736 - val_accuracy: 0.8333\n",
            "Epoch 7/50\n",
            "4/4 [==============================] - 0s 9ms/step - loss: 0.4964 - accuracy: 0.7778 - val_loss: 0.5458 - val_accuracy: 0.8333\n",
            "Epoch 8/50\n",
            "4/4 [==============================] - 0s 12ms/step - loss: 0.4550 - accuracy: 0.7778 - val_loss: 0.5268 - val_accuracy: 0.8333\n",
            "Epoch 9/50\n",
            "4/4 [==============================] - 0s 10ms/step - loss: 0.4274 - accuracy: 0.7778 - val_loss: 0.5123 - val_accuracy: 0.8333\n",
            "Epoch 10/50\n",
            "4/4 [==============================] - 0s 9ms/step - loss: 0.4100 - accuracy: 0.7963 - val_loss: 0.5009 - val_accuracy: 0.8333\n",
            "Epoch 11/50\n",
            "4/4 [==============================] - 0s 14ms/step - loss: 0.3972 - accuracy: 0.8056 - val_loss: 0.4921 - val_accuracy: 0.8333\n",
            "Epoch 12/50\n",
            "4/4 [==============================] - 0s 10ms/step - loss: 0.3861 - accuracy: 0.7963 - val_loss: 0.4844 - val_accuracy: 0.8333\n",
            "Epoch 13/50\n",
            "4/4 [==============================] - 0s 11ms/step - loss: 0.3779 - accuracy: 0.8148 - val_loss: 0.4777 - val_accuracy: 0.8333\n",
            "Epoch 14/50\n",
            "4/4 [==============================] - 0s 10ms/step - loss: 0.3702 - accuracy: 0.8241 - val_loss: 0.4721 - val_accuracy: 0.9167\n",
            "Epoch 15/50\n",
            "4/4 [==============================] - 0s 10ms/step - loss: 0.3640 - accuracy: 0.8333 - val_loss: 0.4673 - val_accuracy: 0.9167\n",
            "Epoch 16/50\n",
            "4/4 [==============================] - 0s 10ms/step - loss: 0.3579 - accuracy: 0.8333 - val_loss: 0.4624 - val_accuracy: 0.9167\n",
            "Epoch 17/50\n",
            "4/4 [==============================] - 0s 9ms/step - loss: 0.3529 - accuracy: 0.8333 - val_loss: 0.4576 - val_accuracy: 0.9167\n",
            "Epoch 18/50\n",
            "4/4 [==============================] - 0s 10ms/step - loss: 0.3477 - accuracy: 0.8519 - val_loss: 0.4531 - val_accuracy: 0.9167\n",
            "Epoch 19/50\n",
            "4/4 [==============================] - 0s 10ms/step - loss: 0.3433 - accuracy: 0.8611 - val_loss: 0.4486 - val_accuracy: 0.9167\n",
            "Epoch 20/50\n",
            "4/4 [==============================] - 0s 11ms/step - loss: 0.3390 - accuracy: 0.8704 - val_loss: 0.4438 - val_accuracy: 0.9167\n",
            "Epoch 21/50\n",
            "4/4 [==============================] - 0s 9ms/step - loss: 0.3350 - accuracy: 0.8796 - val_loss: 0.4386 - val_accuracy: 0.9167\n",
            "Epoch 22/50\n",
            "4/4 [==============================] - 0s 13ms/step - loss: 0.3309 - accuracy: 0.8796 - val_loss: 0.4333 - val_accuracy: 0.9167\n",
            "Epoch 23/50\n",
            "4/4 [==============================] - 0s 10ms/step - loss: 0.3269 - accuracy: 0.8796 - val_loss: 0.4278 - val_accuracy: 0.9167\n",
            "Epoch 24/50\n",
            "4/4 [==============================] - 0s 9ms/step - loss: 0.3237 - accuracy: 0.8704 - val_loss: 0.4218 - val_accuracy: 0.9167\n",
            "Epoch 25/50\n",
            "4/4 [==============================] - 0s 10ms/step - loss: 0.3203 - accuracy: 0.8796 - val_loss: 0.4164 - val_accuracy: 0.9167\n",
            "Epoch 26/50\n",
            "4/4 [==============================] - 0s 10ms/step - loss: 0.3172 - accuracy: 0.8796 - val_loss: 0.4121 - val_accuracy: 0.9167\n",
            "Epoch 27/50\n",
            "4/4 [==============================] - 0s 12ms/step - loss: 0.3140 - accuracy: 0.8889 - val_loss: 0.4088 - val_accuracy: 0.9167\n",
            "Epoch 28/50\n",
            "4/4 [==============================] - 0s 9ms/step - loss: 0.3107 - accuracy: 0.8981 - val_loss: 0.4055 - val_accuracy: 0.9167\n",
            "Epoch 29/50\n",
            "4/4 [==============================] - 0s 11ms/step - loss: 0.3076 - accuracy: 0.8981 - val_loss: 0.4025 - val_accuracy: 0.9167\n",
            "Epoch 30/50\n",
            "4/4 [==============================] - 0s 10ms/step - loss: 0.3049 - accuracy: 0.8981 - val_loss: 0.3999 - val_accuracy: 0.9167\n",
            "Epoch 31/50\n",
            "4/4 [==============================] - 0s 10ms/step - loss: 0.3018 - accuracy: 0.9074 - val_loss: 0.3966 - val_accuracy: 0.9167\n",
            "Epoch 32/50\n",
            "4/4 [==============================] - 0s 9ms/step - loss: 0.2990 - accuracy: 0.9074 - val_loss: 0.3934 - val_accuracy: 0.9167\n",
            "Epoch 33/50\n",
            "4/4 [==============================] - 0s 9ms/step - loss: 0.2965 - accuracy: 0.9074 - val_loss: 0.3912 - val_accuracy: 0.9167\n",
            "Epoch 34/50\n",
            "4/4 [==============================] - 0s 10ms/step - loss: 0.2935 - accuracy: 0.9167 - val_loss: 0.3881 - val_accuracy: 0.9167\n",
            "Epoch 35/50\n",
            "4/4 [==============================] - 0s 10ms/step - loss: 0.2910 - accuracy: 0.9167 - val_loss: 0.3852 - val_accuracy: 0.9167\n",
            "Epoch 36/50\n",
            "4/4 [==============================] - 0s 10ms/step - loss: 0.2884 - accuracy: 0.9167 - val_loss: 0.3826 - val_accuracy: 0.9167\n",
            "Epoch 37/50\n",
            "4/4 [==============================] - 0s 10ms/step - loss: 0.2861 - accuracy: 0.9167 - val_loss: 0.3804 - val_accuracy: 0.9167\n",
            "Epoch 38/50\n",
            "4/4 [==============================] - 0s 10ms/step - loss: 0.2836 - accuracy: 0.9167 - val_loss: 0.3777 - val_accuracy: 0.9167\n",
            "Epoch 39/50\n",
            "4/4 [==============================] - 0s 10ms/step - loss: 0.2812 - accuracy: 0.9167 - val_loss: 0.3745 - val_accuracy: 0.9167\n",
            "Epoch 40/50\n",
            "4/4 [==============================] - 0s 9ms/step - loss: 0.2790 - accuracy: 0.9167 - val_loss: 0.3716 - val_accuracy: 0.9167\n",
            "Epoch 41/50\n",
            "4/4 [==============================] - 0s 10ms/step - loss: 0.2765 - accuracy: 0.9167 - val_loss: 0.3683 - val_accuracy: 0.9167\n",
            "Epoch 42/50\n",
            "4/4 [==============================] - 0s 10ms/step - loss: 0.2743 - accuracy: 0.9167 - val_loss: 0.3653 - val_accuracy: 0.9167\n",
            "Epoch 43/50\n",
            "4/4 [==============================] - 0s 9ms/step - loss: 0.2721 - accuracy: 0.9167 - val_loss: 0.3624 - val_accuracy: 0.9167\n",
            "Epoch 44/50\n",
            "4/4 [==============================] - 0s 9ms/step - loss: 0.2701 - accuracy: 0.9167 - val_loss: 0.3594 - val_accuracy: 0.9167\n",
            "Epoch 45/50\n",
            "4/4 [==============================] - 0s 9ms/step - loss: 0.2680 - accuracy: 0.9167 - val_loss: 0.3566 - val_accuracy: 0.9167\n",
            "Epoch 46/50\n",
            "4/4 [==============================] - 0s 10ms/step - loss: 0.2659 - accuracy: 0.9167 - val_loss: 0.3545 - val_accuracy: 0.9167\n",
            "Epoch 47/50\n",
            "4/4 [==============================] - 0s 10ms/step - loss: 0.2639 - accuracy: 0.9167 - val_loss: 0.3524 - val_accuracy: 0.9167\n",
            "Epoch 48/50\n",
            "4/4 [==============================] - 0s 17ms/step - loss: 0.2617 - accuracy: 0.9259 - val_loss: 0.3515 - val_accuracy: 0.9167\n",
            "Epoch 49/50\n",
            "4/4 [==============================] - 0s 11ms/step - loss: 0.2597 - accuracy: 0.9259 - val_loss: 0.3493 - val_accuracy: 0.9167\n",
            "Epoch 50/50\n",
            "4/4 [==============================] - 0s 11ms/step - loss: 0.2577 - accuracy: 0.9259 - val_loss: 0.3469 - val_accuracy: 0.9167\n"
          ]
        },
        {
          "output_type": "execute_result",
          "data": {
            "text/plain": [
              "<keras.src.callbacks.History at 0x7a21c0e84a30>"
            ]
          },
          "metadata": {},
          "execution_count": 74
        }
      ]
    },
    {
      "cell_type": "code",
      "source": [
        "3# Evaluate the model on the test set\n",
        "test_loss_momentum, test_accuracy_momentum = model3.evaluate(X_test, y_test)\n",
        "print(f'Test loss: {test_loss_momentum} Test Accuracy: {test_accuracy_momentum}')"
      ],
      "metadata": {
        "colab": {
          "base_uri": "https://localhost:8080/"
        },
        "id": "uepi-w7TANG1",
        "outputId": "c969f227-d257-4e20-805c-6fac116ecc5f"
      },
      "execution_count": null,
      "outputs": [
        {
          "output_type": "stream",
          "name": "stdout",
          "text": [
            "1/1 [==============================] - 0s 22ms/step - loss: 0.2162 - accuracy: 0.9667\n",
            "Test loss: 0.2161865234375 Test Accuracy: 0.9666666388511658\n"
          ]
        }
      ]
    },
    {
      "cell_type": "code",
      "source": [
        "model4 = tf.keras.Sequential([\n",
        "    tf.keras.layers.Dense(3, activation='softmax', input_shape=(X_train.shape[1],))\n",
        "])\n",
        "model4.compile(optimizer=optimizer_nesterov,\n",
        "              loss='sparse_categorical_crossentropy',\n",
        "              metrics='accuracy')\n",
        "\n",
        "# Train the model\n",
        "model4.fit(X_train, y_train, epochs=50, validation_split=0.1,batch_size=32)"
      ],
      "metadata": {
        "colab": {
          "base_uri": "https://localhost:8080/"
        },
        "id": "7qrI00txAM7l",
        "outputId": "3baff05d-802a-4478-a79d-7b645d262f3f"
      },
      "execution_count": null,
      "outputs": [
        {
          "output_type": "stream",
          "name": "stdout",
          "text": [
            "Epoch 1/50\n",
            "4/4 [==============================] - 0s 65ms/step - loss: 2.3524 - accuracy: 0.0648 - val_loss: 1.3460 - val_accuracy: 0.5000\n",
            "Epoch 2/50\n",
            "4/4 [==============================] - 0s 10ms/step - loss: 1.9761 - accuracy: 0.1481 - val_loss: 1.1097 - val_accuracy: 0.5833\n",
            "Epoch 3/50\n",
            "4/4 [==============================] - 0s 11ms/step - loss: 1.4924 - accuracy: 0.2778 - val_loss: 0.8871 - val_accuracy: 0.7500\n",
            "Epoch 4/50\n",
            "4/4 [==============================] - 0s 10ms/step - loss: 1.0737 - accuracy: 0.4630 - val_loss: 0.7198 - val_accuracy: 0.7500\n",
            "Epoch 5/50\n",
            "4/4 [==============================] - 0s 10ms/step - loss: 0.7944 - accuracy: 0.6111 - val_loss: 0.6065 - val_accuracy: 0.7500\n",
            "Epoch 6/50\n",
            "4/4 [==============================] - 0s 9ms/step - loss: 0.6247 - accuracy: 0.7037 - val_loss: 0.5338 - val_accuracy: 0.9167\n",
            "Epoch 7/50\n",
            "4/4 [==============================] - 0s 10ms/step - loss: 0.5285 - accuracy: 0.7685 - val_loss: 0.4868 - val_accuracy: 0.9167\n",
            "Epoch 8/50\n",
            "4/4 [==============================] - 0s 10ms/step - loss: 0.4708 - accuracy: 0.8426 - val_loss: 0.4550 - val_accuracy: 0.9167\n",
            "Epoch 9/50\n",
            "4/4 [==============================] - 0s 10ms/step - loss: 0.4362 - accuracy: 0.8519 - val_loss: 0.4326 - val_accuracy: 1.0000\n",
            "Epoch 10/50\n",
            "4/4 [==============================] - 0s 10ms/step - loss: 0.4139 - accuracy: 0.8333 - val_loss: 0.4152 - val_accuracy: 1.0000\n",
            "Epoch 11/50\n",
            "4/4 [==============================] - 0s 9ms/step - loss: 0.3956 - accuracy: 0.8426 - val_loss: 0.4014 - val_accuracy: 1.0000\n",
            "Epoch 12/50\n",
            "4/4 [==============================] - 0s 12ms/step - loss: 0.3814 - accuracy: 0.8426 - val_loss: 0.3899 - val_accuracy: 1.0000\n",
            "Epoch 13/50\n",
            "4/4 [==============================] - 0s 10ms/step - loss: 0.3706 - accuracy: 0.8611 - val_loss: 0.3806 - val_accuracy: 1.0000\n",
            "Epoch 14/50\n",
            "4/4 [==============================] - 0s 9ms/step - loss: 0.3608 - accuracy: 0.8611 - val_loss: 0.3730 - val_accuracy: 1.0000\n",
            "Epoch 15/50\n",
            "4/4 [==============================] - 0s 10ms/step - loss: 0.3520 - accuracy: 0.8704 - val_loss: 0.3671 - val_accuracy: 1.0000\n",
            "Epoch 16/50\n",
            "4/4 [==============================] - 0s 10ms/step - loss: 0.3449 - accuracy: 0.8704 - val_loss: 0.3622 - val_accuracy: 1.0000\n",
            "Epoch 17/50\n",
            "4/4 [==============================] - 0s 10ms/step - loss: 0.3391 - accuracy: 0.8796 - val_loss: 0.3579 - val_accuracy: 1.0000\n",
            "Epoch 18/50\n",
            "4/4 [==============================] - 0s 10ms/step - loss: 0.3335 - accuracy: 0.8889 - val_loss: 0.3538 - val_accuracy: 1.0000\n",
            "Epoch 19/50\n",
            "4/4 [==============================] - 0s 12ms/step - loss: 0.3281 - accuracy: 0.8796 - val_loss: 0.3500 - val_accuracy: 1.0000\n",
            "Epoch 20/50\n",
            "4/4 [==============================] - 0s 10ms/step - loss: 0.3236 - accuracy: 0.8796 - val_loss: 0.3463 - val_accuracy: 1.0000\n",
            "Epoch 21/50\n",
            "4/4 [==============================] - 0s 11ms/step - loss: 0.3194 - accuracy: 0.8796 - val_loss: 0.3428 - val_accuracy: 1.0000\n",
            "Epoch 22/50\n",
            "4/4 [==============================] - 0s 10ms/step - loss: 0.3157 - accuracy: 0.8796 - val_loss: 0.3398 - val_accuracy: 1.0000\n",
            "Epoch 23/50\n",
            "4/4 [==============================] - 0s 20ms/step - loss: 0.3120 - accuracy: 0.8796 - val_loss: 0.3370 - val_accuracy: 0.9167\n",
            "Epoch 24/50\n",
            "4/4 [==============================] - 0s 11ms/step - loss: 0.3085 - accuracy: 0.8796 - val_loss: 0.3344 - val_accuracy: 0.9167\n",
            "Epoch 25/50\n",
            "4/4 [==============================] - 0s 10ms/step - loss: 0.3050 - accuracy: 0.8796 - val_loss: 0.3320 - val_accuracy: 0.9167\n",
            "Epoch 26/50\n",
            "4/4 [==============================] - 0s 10ms/step - loss: 0.3020 - accuracy: 0.8796 - val_loss: 0.3298 - val_accuracy: 0.9167\n",
            "Epoch 27/50\n",
            "4/4 [==============================] - 0s 10ms/step - loss: 0.2987 - accuracy: 0.8796 - val_loss: 0.3275 - val_accuracy: 0.9167\n",
            "Epoch 28/50\n",
            "4/4 [==============================] - 0s 11ms/step - loss: 0.2957 - accuracy: 0.9074 - val_loss: 0.3254 - val_accuracy: 0.9167\n",
            "Epoch 29/50\n",
            "4/4 [==============================] - 0s 10ms/step - loss: 0.2928 - accuracy: 0.9074 - val_loss: 0.3237 - val_accuracy: 0.9167\n",
            "Epoch 30/50\n",
            "4/4 [==============================] - 0s 11ms/step - loss: 0.2897 - accuracy: 0.9074 - val_loss: 0.3221 - val_accuracy: 0.9167\n",
            "Epoch 31/50\n",
            "4/4 [==============================] - 0s 11ms/step - loss: 0.2869 - accuracy: 0.9074 - val_loss: 0.3208 - val_accuracy: 0.9167\n",
            "Epoch 32/50\n",
            "4/4 [==============================] - 0s 10ms/step - loss: 0.2842 - accuracy: 0.9074 - val_loss: 0.3199 - val_accuracy: 0.9167\n",
            "Epoch 33/50\n",
            "4/4 [==============================] - 0s 10ms/step - loss: 0.2817 - accuracy: 0.9167 - val_loss: 0.3184 - val_accuracy: 0.9167\n",
            "Epoch 34/50\n",
            "4/4 [==============================] - 0s 18ms/step - loss: 0.2792 - accuracy: 0.9259 - val_loss: 0.3167 - val_accuracy: 0.9167\n",
            "Epoch 35/50\n",
            "4/4 [==============================] - 0s 16ms/step - loss: 0.2768 - accuracy: 0.9259 - val_loss: 0.3148 - val_accuracy: 0.9167\n",
            "Epoch 36/50\n",
            "4/4 [==============================] - 0s 17ms/step - loss: 0.2745 - accuracy: 0.9352 - val_loss: 0.3128 - val_accuracy: 0.9167\n",
            "Epoch 37/50\n",
            "4/4 [==============================] - 0s 14ms/step - loss: 0.2722 - accuracy: 0.9352 - val_loss: 0.3109 - val_accuracy: 0.9167\n",
            "Epoch 38/50\n",
            "4/4 [==============================] - 0s 22ms/step - loss: 0.2700 - accuracy: 0.9352 - val_loss: 0.3089 - val_accuracy: 0.9167\n",
            "Epoch 39/50\n",
            "4/4 [==============================] - 0s 20ms/step - loss: 0.2679 - accuracy: 0.9352 - val_loss: 0.3069 - val_accuracy: 0.9167\n",
            "Epoch 40/50\n",
            "4/4 [==============================] - 0s 20ms/step - loss: 0.2658 - accuracy: 0.9352 - val_loss: 0.3056 - val_accuracy: 0.9167\n",
            "Epoch 41/50\n",
            "4/4 [==============================] - 0s 22ms/step - loss: 0.2638 - accuracy: 0.9352 - val_loss: 0.3044 - val_accuracy: 0.9167\n",
            "Epoch 42/50\n",
            "4/4 [==============================] - 0s 13ms/step - loss: 0.2620 - accuracy: 0.9352 - val_loss: 0.3038 - val_accuracy: 0.9167\n",
            "Epoch 43/50\n",
            "4/4 [==============================] - 0s 23ms/step - loss: 0.2597 - accuracy: 0.9352 - val_loss: 0.3028 - val_accuracy: 0.9167\n",
            "Epoch 44/50\n",
            "4/4 [==============================] - 0s 14ms/step - loss: 0.2579 - accuracy: 0.9352 - val_loss: 0.3016 - val_accuracy: 0.9167\n",
            "Epoch 45/50\n",
            "4/4 [==============================] - 0s 13ms/step - loss: 0.2559 - accuracy: 0.9352 - val_loss: 0.3002 - val_accuracy: 0.9167\n",
            "Epoch 46/50\n",
            "4/4 [==============================] - 0s 13ms/step - loss: 0.2542 - accuracy: 0.9352 - val_loss: 0.2989 - val_accuracy: 0.9167\n",
            "Epoch 47/50\n",
            "4/4 [==============================] - 0s 20ms/step - loss: 0.2523 - accuracy: 0.9352 - val_loss: 0.2975 - val_accuracy: 0.9167\n",
            "Epoch 48/50\n",
            "4/4 [==============================] - 0s 13ms/step - loss: 0.2506 - accuracy: 0.9352 - val_loss: 0.2960 - val_accuracy: 0.9167\n",
            "Epoch 49/50\n",
            "4/4 [==============================] - 0s 13ms/step - loss: 0.2488 - accuracy: 0.9352 - val_loss: 0.2946 - val_accuracy: 0.9167\n",
            "Epoch 50/50\n",
            "4/4 [==============================] - 0s 21ms/step - loss: 0.2471 - accuracy: 0.9352 - val_loss: 0.2931 - val_accuracy: 0.9167\n"
          ]
        },
        {
          "output_type": "execute_result",
          "data": {
            "text/plain": [
              "<keras.src.callbacks.History at 0x7a21a84b16c0>"
            ]
          },
          "metadata": {},
          "execution_count": 76
        }
      ]
    },
    {
      "cell_type": "code",
      "source": [
        "# Evaluate the model on the test set\n",
        "test_loss_nes, test_accuracy_nes = model4.evaluate(X_test, y_test)\n",
        "print(f'Test loss: {test_loss_nes} Test Accuracy: {test_accuracy_nes}')"
      ],
      "metadata": {
        "colab": {
          "base_uri": "https://localhost:8080/"
        },
        "id": "WXdQtPpvAM1F",
        "outputId": "5b57eaca-660a-4d9f-fa76-677faa307a83"
      },
      "execution_count": null,
      "outputs": [
        {
          "output_type": "stream",
          "name": "stdout",
          "text": [
            "1/1 [==============================] - 0s 31ms/step - loss: 0.1961 - accuracy: 0.9667\n",
            "Test loss: 0.19610269367694855 Test Accuracy: 0.9666666388511658\n"
          ]
        }
      ]
    },
    {
      "cell_type": "code",
      "source": [
        "model5 = tf.keras.Sequential([\n",
        "    tf.keras.layers.Dense(3, activation='softmax', input_shape=(X_train.shape[1],))\n",
        "])\n",
        "model5.compile(optimizer=optimizer_adagrad,\n",
        "              loss='sparse_categorical_crossentropy',\n",
        "              metrics='accuracy')\n",
        "\n",
        "# Train the model\n",
        "model5.fit(X_train, y_train, epochs=50, validation_split=0.1)"
      ],
      "metadata": {
        "colab": {
          "base_uri": "https://localhost:8080/"
        },
        "id": "_tzRcPXTAMpF",
        "outputId": "32ef3826-96a8-4432-ade7-46291ad2253d"
      },
      "execution_count": null,
      "outputs": [
        {
          "output_type": "stream",
          "name": "stdout",
          "text": [
            "Epoch 1/50\n",
            "4/4 [==============================] - 1s 91ms/step - loss: 1.6956 - accuracy: 0.0741 - val_loss: 1.2393 - val_accuracy: 0.2500\n",
            "Epoch 2/50\n",
            "4/4 [==============================] - 0s 21ms/step - loss: 1.6118 - accuracy: 0.0926 - val_loss: 1.2013 - val_accuracy: 0.2500\n",
            "Epoch 3/50\n",
            "4/4 [==============================] - 0s 15ms/step - loss: 1.5554 - accuracy: 0.1019 - val_loss: 1.1706 - val_accuracy: 0.2500\n",
            "Epoch 4/50\n",
            "4/4 [==============================] - 0s 17ms/step - loss: 1.5074 - accuracy: 0.1111 - val_loss: 1.1456 - val_accuracy: 0.2500\n",
            "Epoch 5/50\n",
            "4/4 [==============================] - 0s 15ms/step - loss: 1.4669 - accuracy: 0.1204 - val_loss: 1.1239 - val_accuracy: 0.2500\n",
            "Epoch 6/50\n",
            "4/4 [==============================] - 0s 12ms/step - loss: 1.4320 - accuracy: 0.1574 - val_loss: 1.1050 - val_accuracy: 0.2500\n",
            "Epoch 7/50\n",
            "4/4 [==============================] - 0s 10ms/step - loss: 1.4022 - accuracy: 0.1759 - val_loss: 1.0879 - val_accuracy: 0.2500\n",
            "Epoch 8/50\n",
            "4/4 [==============================] - 0s 10ms/step - loss: 1.3742 - accuracy: 0.1852 - val_loss: 1.0721 - val_accuracy: 0.2500\n",
            "Epoch 9/50\n",
            "4/4 [==============================] - 0s 10ms/step - loss: 1.3480 - accuracy: 0.1852 - val_loss: 1.0585 - val_accuracy: 0.2500\n",
            "Epoch 10/50\n",
            "4/4 [==============================] - 0s 10ms/step - loss: 1.3250 - accuracy: 0.1852 - val_loss: 1.0454 - val_accuracy: 0.2500\n",
            "Epoch 11/50\n",
            "4/4 [==============================] - 0s 10ms/step - loss: 1.3024 - accuracy: 0.1944 - val_loss: 1.0333 - val_accuracy: 0.2500\n",
            "Epoch 12/50\n",
            "4/4 [==============================] - 0s 9ms/step - loss: 1.2824 - accuracy: 0.1944 - val_loss: 1.0218 - val_accuracy: 0.2500\n",
            "Epoch 13/50\n",
            "4/4 [==============================] - 0s 9ms/step - loss: 1.2632 - accuracy: 0.1944 - val_loss: 1.0106 - val_accuracy: 0.3333\n",
            "Epoch 14/50\n",
            "4/4 [==============================] - 0s 10ms/step - loss: 1.2448 - accuracy: 0.2130 - val_loss: 1.0004 - val_accuracy: 0.3333\n",
            "Epoch 15/50\n",
            "4/4 [==============================] - 0s 10ms/step - loss: 1.2278 - accuracy: 0.2222 - val_loss: 0.9904 - val_accuracy: 0.3333\n",
            "Epoch 16/50\n",
            "4/4 [==============================] - 0s 9ms/step - loss: 1.2114 - accuracy: 0.2222 - val_loss: 0.9814 - val_accuracy: 0.3333\n",
            "Epoch 17/50\n",
            "4/4 [==============================] - 0s 10ms/step - loss: 1.1959 - accuracy: 0.2315 - val_loss: 0.9727 - val_accuracy: 0.3333\n",
            "Epoch 18/50\n",
            "4/4 [==============================] - 0s 10ms/step - loss: 1.1813 - accuracy: 0.2315 - val_loss: 0.9644 - val_accuracy: 0.3333\n",
            "Epoch 19/50\n",
            "4/4 [==============================] - 0s 13ms/step - loss: 1.1670 - accuracy: 0.2407 - val_loss: 0.9566 - val_accuracy: 0.3333\n",
            "Epoch 20/50\n",
            "4/4 [==============================] - 0s 9ms/step - loss: 1.1543 - accuracy: 0.2500 - val_loss: 0.9487 - val_accuracy: 0.3333\n",
            "Epoch 21/50\n",
            "4/4 [==============================] - 0s 10ms/step - loss: 1.1412 - accuracy: 0.2500 - val_loss: 0.9412 - val_accuracy: 0.3333\n",
            "Epoch 22/50\n",
            "4/4 [==============================] - 0s 10ms/step - loss: 1.1286 - accuracy: 0.2500 - val_loss: 0.9342 - val_accuracy: 0.3333\n",
            "Epoch 23/50\n",
            "4/4 [==============================] - 0s 10ms/step - loss: 1.1165 - accuracy: 0.2593 - val_loss: 0.9272 - val_accuracy: 0.3333\n",
            "Epoch 24/50\n",
            "4/4 [==============================] - 0s 11ms/step - loss: 1.1045 - accuracy: 0.2593 - val_loss: 0.9207 - val_accuracy: 0.4167\n",
            "Epoch 25/50\n",
            "4/4 [==============================] - 0s 9ms/step - loss: 1.0939 - accuracy: 0.2685 - val_loss: 0.9143 - val_accuracy: 0.4167\n",
            "Epoch 26/50\n",
            "4/4 [==============================] - 0s 9ms/step - loss: 1.0826 - accuracy: 0.2685 - val_loss: 0.9077 - val_accuracy: 0.5000\n",
            "Epoch 27/50\n",
            "4/4 [==============================] - 0s 10ms/step - loss: 1.0720 - accuracy: 0.2685 - val_loss: 0.9016 - val_accuracy: 0.5000\n",
            "Epoch 28/50\n",
            "4/4 [==============================] - 0s 10ms/step - loss: 1.0616 - accuracy: 0.2778 - val_loss: 0.8959 - val_accuracy: 0.5000\n",
            "Epoch 29/50\n",
            "4/4 [==============================] - 0s 10ms/step - loss: 1.0515 - accuracy: 0.2778 - val_loss: 0.8902 - val_accuracy: 0.5000\n",
            "Epoch 30/50\n",
            "4/4 [==============================] - 0s 10ms/step - loss: 1.0417 - accuracy: 0.2778 - val_loss: 0.8847 - val_accuracy: 0.5000\n",
            "Epoch 31/50\n",
            "4/4 [==============================] - 0s 10ms/step - loss: 1.0321 - accuracy: 0.2778 - val_loss: 0.8795 - val_accuracy: 0.5000\n",
            "Epoch 32/50\n",
            "4/4 [==============================] - 0s 10ms/step - loss: 1.0232 - accuracy: 0.2870 - val_loss: 0.8742 - val_accuracy: 0.5000\n",
            "Epoch 33/50\n",
            "4/4 [==============================] - 0s 15ms/step - loss: 1.0146 - accuracy: 0.3056 - val_loss: 0.8691 - val_accuracy: 0.5000\n",
            "Epoch 34/50\n",
            "4/4 [==============================] - 0s 10ms/step - loss: 1.0062 - accuracy: 0.3148 - val_loss: 0.8640 - val_accuracy: 0.5000\n",
            "Epoch 35/50\n",
            "4/4 [==============================] - 0s 9ms/step - loss: 0.9982 - accuracy: 0.3241 - val_loss: 0.8594 - val_accuracy: 0.5000\n",
            "Epoch 36/50\n",
            "4/4 [==============================] - 0s 10ms/step - loss: 0.9905 - accuracy: 0.3333 - val_loss: 0.8547 - val_accuracy: 0.5000\n",
            "Epoch 37/50\n",
            "4/4 [==============================] - 0s 11ms/step - loss: 0.9827 - accuracy: 0.3519 - val_loss: 0.8503 - val_accuracy: 0.5000\n",
            "Epoch 38/50\n",
            "4/4 [==============================] - 0s 10ms/step - loss: 0.9750 - accuracy: 0.3796 - val_loss: 0.8457 - val_accuracy: 0.5833\n",
            "Epoch 39/50\n",
            "4/4 [==============================] - 0s 10ms/step - loss: 0.9675 - accuracy: 0.3889 - val_loss: 0.8414 - val_accuracy: 0.5833\n",
            "Epoch 40/50\n",
            "4/4 [==============================] - 0s 11ms/step - loss: 0.9600 - accuracy: 0.3889 - val_loss: 0.8372 - val_accuracy: 0.5833\n",
            "Epoch 41/50\n",
            "4/4 [==============================] - 0s 9ms/step - loss: 0.9528 - accuracy: 0.3981 - val_loss: 0.8333 - val_accuracy: 0.5833\n",
            "Epoch 42/50\n",
            "4/4 [==============================] - 0s 10ms/step - loss: 0.9457 - accuracy: 0.4074 - val_loss: 0.8292 - val_accuracy: 0.5833\n",
            "Epoch 43/50\n",
            "4/4 [==============================] - 0s 10ms/step - loss: 0.9389 - accuracy: 0.4259 - val_loss: 0.8252 - val_accuracy: 0.5833\n",
            "Epoch 44/50\n",
            "4/4 [==============================] - 0s 11ms/step - loss: 0.9323 - accuracy: 0.4259 - val_loss: 0.8213 - val_accuracy: 0.5833\n",
            "Epoch 45/50\n",
            "4/4 [==============================] - 0s 13ms/step - loss: 0.9261 - accuracy: 0.4352 - val_loss: 0.8176 - val_accuracy: 0.5833\n",
            "Epoch 46/50\n",
            "4/4 [==============================] - 0s 10ms/step - loss: 0.9196 - accuracy: 0.4815 - val_loss: 0.8138 - val_accuracy: 0.5833\n",
            "Epoch 47/50\n",
            "4/4 [==============================] - 0s 16ms/step - loss: 0.9138 - accuracy: 0.4907 - val_loss: 0.8101 - val_accuracy: 0.5833\n",
            "Epoch 48/50\n",
            "4/4 [==============================] - 0s 10ms/step - loss: 0.9075 - accuracy: 0.5000 - val_loss: 0.8067 - val_accuracy: 0.5833\n",
            "Epoch 49/50\n",
            "4/4 [==============================] - 0s 10ms/step - loss: 0.9018 - accuracy: 0.5278 - val_loss: 0.8031 - val_accuracy: 0.5833\n",
            "Epoch 50/50\n",
            "4/4 [==============================] - 0s 10ms/step - loss: 0.8958 - accuracy: 0.5556 - val_loss: 0.7997 - val_accuracy: 0.5833\n"
          ]
        },
        {
          "output_type": "execute_result",
          "data": {
            "text/plain": [
              "<keras.src.callbacks.History at 0x7a21becbece0>"
            ]
          },
          "metadata": {},
          "execution_count": 78
        }
      ]
    },
    {
      "cell_type": "code",
      "source": [
        "# Evaluate the model on the test set\n",
        "test_loss_adagrad, test_accuracy_adagrad = model5.evaluate(X_test, y_test)\n",
        "print(f'Test loss: {test_loss_adagrad} Test Accuracy: {test_accuracy_adagrad}')"
      ],
      "metadata": {
        "id": "Rb5Sw-nQHGlO",
        "outputId": "a193e0d1-8cf5-4f59-cbf3-89232d72ab00",
        "colab": {
          "base_uri": "https://localhost:8080/"
        }
      },
      "execution_count": null,
      "outputs": [
        {
          "output_type": "stream",
          "name": "stdout",
          "text": [
            "1/1 [==============================] - 0s 25ms/step - loss: 0.8624 - accuracy: 0.4667\n",
            "Test loss: 0.8624492883682251 Test Accuracy: 0.46666666865348816\n"
          ]
        }
      ]
    },
    {
      "cell_type": "code",
      "source": [
        "model6 = tf.keras.Sequential([\n",
        "    tf.keras.layers.Dense(3, activation='softmax', input_shape=(X_train.shape[1],))\n",
        "])\n",
        "model6.compile(optimizer=optimizer_adam,\n",
        "              loss='sparse_categorical_crossentropy',\n",
        "              metrics='accuracy')\n",
        "\n",
        "# Train the model\n",
        "model6.fit(X_train, y_train, epochs=50, validation_split=0.1)"
      ],
      "metadata": {
        "colab": {
          "base_uri": "https://localhost:8080/"
        },
        "id": "K8lPAoYeAMUl",
        "outputId": "a901f83c-8989-40f4-b899-f7566d8c1457"
      },
      "execution_count": null,
      "outputs": [
        {
          "output_type": "stream",
          "name": "stdout",
          "text": [
            "Epoch 1/50\n",
            "4/4 [==============================] - 1s 65ms/step - loss: 1.2679 - accuracy: 0.2315 - val_loss: 1.1752 - val_accuracy: 0.4167\n",
            "Epoch 2/50\n",
            "4/4 [==============================] - 0s 10ms/step - loss: 1.1358 - accuracy: 0.3148 - val_loss: 1.0975 - val_accuracy: 0.4167\n",
            "Epoch 3/50\n",
            "4/4 [==============================] - 0s 10ms/step - loss: 1.0199 - accuracy: 0.3519 - val_loss: 1.0296 - val_accuracy: 0.5000\n",
            "Epoch 4/50\n",
            "4/4 [==============================] - 0s 11ms/step - loss: 0.9180 - accuracy: 0.5833 - val_loss: 0.9695 - val_accuracy: 0.5833\n",
            "Epoch 5/50\n",
            "4/4 [==============================] - 0s 11ms/step - loss: 0.8336 - accuracy: 0.6944 - val_loss: 0.9168 - val_accuracy: 0.5833\n",
            "Epoch 6/50\n",
            "4/4 [==============================] - 0s 10ms/step - loss: 0.7638 - accuracy: 0.6944 - val_loss: 0.8717 - val_accuracy: 0.5000\n",
            "Epoch 7/50\n",
            "4/4 [==============================] - 0s 10ms/step - loss: 0.7078 - accuracy: 0.7222 - val_loss: 0.8326 - val_accuracy: 0.5833\n",
            "Epoch 8/50\n",
            "4/4 [==============================] - 0s 10ms/step - loss: 0.6606 - accuracy: 0.7685 - val_loss: 0.7988 - val_accuracy: 0.6667\n",
            "Epoch 9/50\n",
            "4/4 [==============================] - 0s 11ms/step - loss: 0.6213 - accuracy: 0.7870 - val_loss: 0.7691 - val_accuracy: 0.6667\n",
            "Epoch 10/50\n",
            "4/4 [==============================] - 0s 10ms/step - loss: 0.5892 - accuracy: 0.8333 - val_loss: 0.7435 - val_accuracy: 0.6667\n",
            "Epoch 11/50\n",
            "4/4 [==============================] - 0s 11ms/step - loss: 0.5612 - accuracy: 0.8519 - val_loss: 0.7210 - val_accuracy: 0.7500\n",
            "Epoch 12/50\n",
            "4/4 [==============================] - 0s 11ms/step - loss: 0.5382 - accuracy: 0.8519 - val_loss: 0.7013 - val_accuracy: 0.7500\n",
            "Epoch 13/50\n",
            "4/4 [==============================] - 0s 11ms/step - loss: 0.5176 - accuracy: 0.8426 - val_loss: 0.6831 - val_accuracy: 0.8333\n",
            "Epoch 14/50\n",
            "4/4 [==============================] - 0s 11ms/step - loss: 0.5000 - accuracy: 0.8426 - val_loss: 0.6666 - val_accuracy: 0.8333\n",
            "Epoch 15/50\n",
            "4/4 [==============================] - 0s 11ms/step - loss: 0.4837 - accuracy: 0.8519 - val_loss: 0.6516 - val_accuracy: 0.8333\n",
            "Epoch 16/50\n",
            "4/4 [==============================] - 0s 10ms/step - loss: 0.4698 - accuracy: 0.8611 - val_loss: 0.6382 - val_accuracy: 0.7500\n",
            "Epoch 17/50\n",
            "4/4 [==============================] - 0s 10ms/step - loss: 0.4572 - accuracy: 0.8611 - val_loss: 0.6252 - val_accuracy: 0.7500\n",
            "Epoch 18/50\n",
            "4/4 [==============================] - 0s 10ms/step - loss: 0.4459 - accuracy: 0.8704 - val_loss: 0.6136 - val_accuracy: 0.7500\n",
            "Epoch 19/50\n",
            "4/4 [==============================] - 0s 11ms/step - loss: 0.4345 - accuracy: 0.8611 - val_loss: 0.6025 - val_accuracy: 0.8333\n",
            "Epoch 20/50\n",
            "4/4 [==============================] - 0s 10ms/step - loss: 0.4254 - accuracy: 0.8704 - val_loss: 0.5921 - val_accuracy: 0.8333\n",
            "Epoch 21/50\n",
            "4/4 [==============================] - 0s 12ms/step - loss: 0.4162 - accuracy: 0.8519 - val_loss: 0.5827 - val_accuracy: 0.8333\n",
            "Epoch 22/50\n",
            "4/4 [==============================] - 0s 14ms/step - loss: 0.4082 - accuracy: 0.8519 - val_loss: 0.5737 - val_accuracy: 0.8333\n",
            "Epoch 23/50\n",
            "4/4 [==============================] - 0s 11ms/step - loss: 0.4008 - accuracy: 0.8519 - val_loss: 0.5662 - val_accuracy: 0.8333\n",
            "Epoch 24/50\n",
            "4/4 [==============================] - 0s 10ms/step - loss: 0.3933 - accuracy: 0.8519 - val_loss: 0.5592 - val_accuracy: 0.8333\n",
            "Epoch 25/50\n",
            "4/4 [==============================] - 0s 10ms/step - loss: 0.3868 - accuracy: 0.8519 - val_loss: 0.5525 - val_accuracy: 0.8333\n",
            "Epoch 26/50\n",
            "4/4 [==============================] - 0s 10ms/step - loss: 0.3813 - accuracy: 0.8426 - val_loss: 0.5465 - val_accuracy: 0.8333\n",
            "Epoch 27/50\n",
            "4/4 [==============================] - 0s 12ms/step - loss: 0.3752 - accuracy: 0.8519 - val_loss: 0.5387 - val_accuracy: 0.8333\n",
            "Epoch 28/50\n",
            "4/4 [==============================] - 0s 10ms/step - loss: 0.3697 - accuracy: 0.8519 - val_loss: 0.5306 - val_accuracy: 0.8333\n",
            "Epoch 29/50\n",
            "4/4 [==============================] - 0s 10ms/step - loss: 0.3644 - accuracy: 0.8519 - val_loss: 0.5225 - val_accuracy: 0.8333\n",
            "Epoch 30/50\n",
            "4/4 [==============================] - 0s 10ms/step - loss: 0.3594 - accuracy: 0.8519 - val_loss: 0.5153 - val_accuracy: 0.9167\n",
            "Epoch 31/50\n",
            "4/4 [==============================] - 0s 10ms/step - loss: 0.3545 - accuracy: 0.8796 - val_loss: 0.5093 - val_accuracy: 0.9167\n",
            "Epoch 32/50\n",
            "4/4 [==============================] - 0s 15ms/step - loss: 0.3500 - accuracy: 0.8796 - val_loss: 0.5030 - val_accuracy: 0.9167\n",
            "Epoch 33/50\n",
            "4/4 [==============================] - 0s 10ms/step - loss: 0.3457 - accuracy: 0.8796 - val_loss: 0.4967 - val_accuracy: 0.9167\n",
            "Epoch 34/50\n",
            "4/4 [==============================] - 0s 11ms/step - loss: 0.3416 - accuracy: 0.8796 - val_loss: 0.4909 - val_accuracy: 0.9167\n",
            "Epoch 35/50\n",
            "4/4 [==============================] - 0s 10ms/step - loss: 0.3377 - accuracy: 0.8889 - val_loss: 0.4858 - val_accuracy: 0.9167\n",
            "Epoch 36/50\n",
            "4/4 [==============================] - 0s 9ms/step - loss: 0.3336 - accuracy: 0.8889 - val_loss: 0.4819 - val_accuracy: 0.9167\n",
            "Epoch 37/50\n",
            "4/4 [==============================] - 0s 9ms/step - loss: 0.3302 - accuracy: 0.8796 - val_loss: 0.4789 - val_accuracy: 0.9167\n",
            "Epoch 38/50\n",
            "4/4 [==============================] - 0s 9ms/step - loss: 0.3260 - accuracy: 0.8704 - val_loss: 0.4737 - val_accuracy: 0.9167\n",
            "Epoch 39/50\n",
            "4/4 [==============================] - 0s 10ms/step - loss: 0.3226 - accuracy: 0.8889 - val_loss: 0.4682 - val_accuracy: 0.9167\n",
            "Epoch 40/50\n",
            "4/4 [==============================] - 0s 10ms/step - loss: 0.3186 - accuracy: 0.8889 - val_loss: 0.4644 - val_accuracy: 0.9167\n",
            "Epoch 41/50\n",
            "4/4 [==============================] - 0s 10ms/step - loss: 0.3153 - accuracy: 0.8889 - val_loss: 0.4611 - val_accuracy: 0.9167\n",
            "Epoch 42/50\n",
            "4/4 [==============================] - 0s 10ms/step - loss: 0.3119 - accuracy: 0.8981 - val_loss: 0.4570 - val_accuracy: 0.9167\n",
            "Epoch 43/50\n",
            "4/4 [==============================] - 0s 10ms/step - loss: 0.3089 - accuracy: 0.8981 - val_loss: 0.4518 - val_accuracy: 0.9167\n",
            "Epoch 44/50\n",
            "4/4 [==============================] - 0s 10ms/step - loss: 0.3055 - accuracy: 0.8981 - val_loss: 0.4478 - val_accuracy: 0.9167\n",
            "Epoch 45/50\n",
            "4/4 [==============================] - 0s 10ms/step - loss: 0.3024 - accuracy: 0.8981 - val_loss: 0.4440 - val_accuracy: 0.9167\n",
            "Epoch 46/50\n",
            "4/4 [==============================] - 0s 9ms/step - loss: 0.2994 - accuracy: 0.9167 - val_loss: 0.4397 - val_accuracy: 0.9167\n",
            "Epoch 47/50\n",
            "4/4 [==============================] - 0s 10ms/step - loss: 0.2965 - accuracy: 0.9167 - val_loss: 0.4353 - val_accuracy: 0.9167\n",
            "Epoch 48/50\n",
            "4/4 [==============================] - 0s 12ms/step - loss: 0.2937 - accuracy: 0.9259 - val_loss: 0.4298 - val_accuracy: 0.9167\n",
            "Epoch 49/50\n",
            "4/4 [==============================] - 0s 12ms/step - loss: 0.2908 - accuracy: 0.9259 - val_loss: 0.4255 - val_accuracy: 0.9167\n",
            "Epoch 50/50\n",
            "4/4 [==============================] - 0s 10ms/step - loss: 0.2880 - accuracy: 0.9259 - val_loss: 0.4216 - val_accuracy: 0.9167\n"
          ]
        },
        {
          "output_type": "execute_result",
          "data": {
            "text/plain": [
              "<keras.src.callbacks.History at 0x7a21bed8f010>"
            ]
          },
          "metadata": {},
          "execution_count": 80
        }
      ]
    },
    {
      "cell_type": "code",
      "source": [
        "# Evaluate the model on the test set\n",
        "test_loss_adam, test_accuracy_adam = model6.evaluate(X_test, y_test)\n",
        "print(f'Test loss: {test_loss_adam} Test Accuracy: {test_accuracy_adam}')"
      ],
      "metadata": {
        "colab": {
          "base_uri": "https://localhost:8080/"
        },
        "id": "WJOWNP0NAMIP",
        "outputId": "2c8583b0-4ee6-4b26-bf07-ca64eaa4f617"
      },
      "execution_count": null,
      "outputs": [
        {
          "output_type": "stream",
          "name": "stdout",
          "text": [
            "1/1 [==============================] - 0s 21ms/step - loss: 0.2472 - accuracy: 0.9333\n",
            "Test loss: 0.24722059071063995 Test Accuracy: 0.9333333373069763\n"
          ]
        }
      ]
    }
  ]
}